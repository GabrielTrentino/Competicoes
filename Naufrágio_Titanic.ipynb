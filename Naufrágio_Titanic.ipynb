{
  "nbformat": 4,
  "nbformat_minor": 0,
  "metadata": {
    "colab": {
      "name": "Naufrágio Titanic.ipynb",
      "provenance": [],
      "toc_visible": true,
      "authorship_tag": "ABX9TyNyPVnhElbb78OQiJEo2Zyz",
      "include_colab_link": true
    },
    "kernelspec": {
      "name": "python3",
      "display_name": "Python 3"
    }
  },
  "cells": [
    {
      "cell_type": "markdown",
      "metadata": {
        "id": "view-in-github",
        "colab_type": "text"
      },
      "source": [
        "<a href=\"https://colab.research.google.com/github/GabrielTrentino/Competicoes/blob/master/Naufr%C3%A1gio_Titanic.ipynb\" target=\"_parent\"><img src=\"https://colab.research.google.com/assets/colab-badge.svg\" alt=\"Open In Colab\"/></a>"
      ]
    },
    {
      "cell_type": "markdown",
      "metadata": {
        "id": "5ZYy0wpj1F6P",
        "colab_type": "text"
      },
      "source": [
        "#Desafio Kaggle do Titanic:\n",
        "\n",
        "**O Desafio do Titanic** é uma das competições mais conhecidas no [Kaggle.com](https://www.kaggle.com/c/titanic) e, sem sombra de dúvidas, é uma das melhores primeiras experiências para \"mergulhar\" no mundo de *Machine Learning*.\n",
        "\n",
        "Com o objetivo único de **familiarizar os novos Cientistas de Dados com as estrutura e as dinâmicas do Kaggle**, O desafio do Titanic é o equivalente ao \"Olá Mundo!\" para os Cientistas de Dados.\n",
        "\n",
        "![](https://github.com/GabrielTrentino/Competicoes/blob/master/img/0Titanic.jpg?raw=true)\n",
        "\n",
        "Sem dúvidas, o naufrágio do Titanic é um dos incidentes mais conhecidos pelo mundo, foi digno do famoso filme de mesmo nome. O evento ocorreu no dia 15 de Abril de 1912 **resultando na morte de 1502 pessoas de 2224**(entre passageiros e tripulação). \n",
        "\n",
        "Enquanto houve algum elemento de sorte envolvida nessa chance de sobrevivência do naufragio, houve uma maior probabilidade de sobrevivência entre um grupo e outro. E nosso objetivo é investigar essas chances, proporções, probabilidades com os dados fornecidos pelo Kaggle!\n",
        "\n",
        "Essa competição, além da Análise Exploratória de Dados, também pede a elaboração de um **Modelo Preditivo** de *Machine Learning* **capaz de dizer se uma pessoa teria ou não chances de sobreviver.**"
      ]
    },
    {
      "cell_type": "markdown",
      "metadata": {
        "id": "ybm5-MtFtHKq",
        "colab_type": "text"
      },
      "source": [
        "##Importação das Bibliotecas Essenciais:\n",
        "\n",
        "Inicialmente, importaremos as bibliotecas essenciais para manipulação dos dados (como Pandas, Numpy) e outras focadas para criação de gráficos (Matplotlib.Pyplot e Seaborn)."
      ]
    },
    {
      "cell_type": "code",
      "metadata": {
        "id": "a3AxmT22mOtp",
        "colab_type": "code",
        "colab": {
          "base_uri": "https://localhost:8080/",
          "height": 72
        },
        "outputId": "a997561b-6ec4-44be-fef5-0437837105d9"
      },
      "source": [
        "#Importando as bibliotecas necessárias:\n",
        "import pandas as pd\n",
        "import numpy as np\n",
        "\n",
        "import matplotlib.pyplot as plt\n",
        "import seaborn as sns"
      ],
      "execution_count": 1,
      "outputs": [
        {
          "output_type": "stream",
          "text": [
            "/usr/local/lib/python3.6/dist-packages/statsmodels/tools/_testing.py:19: FutureWarning: pandas.util.testing is deprecated. Use the functions in the public API at pandas.testing instead.\n",
            "  import pandas.util.testing as tm\n"
          ],
          "name": "stderr"
        }
      ]
    },
    {
      "cell_type": "markdown",
      "metadata": {
        "id": "T3ZMqBbuYaU3",
        "colab_type": "text"
      },
      "source": [
        "##Importação dos Arquivos disponibilizados no Kaggle:\n",
        "\n",
        "A Importação desses arquivos são feitos de forma simplificada através do seguinte [Tutorial em Inglês](https://medium.com/@opalkabert/downloading-kaggle-datasets-into-google-colab-fb9654c94235). O processo de Identificação de Upload do Token gerado pelo Kaggle é ocultado."
      ]
    },
    {
      "cell_type": "code",
      "metadata": {
        "id": "SQzqQ__ymYd6",
        "colab_type": "code",
        "colab": {}
      },
      "source": [
        "#Pedindo ao Pandas que leia os arquivos \".csv\" e transforme em DataFrame:\n",
        "url_train = 'https://raw.githubusercontent.com/GabrielTrentino/Competicoes/master/00-datasets/Titanic-train.csv'\n",
        "url_test = 'https://raw.githubusercontent.com/GabrielTrentino/Competicoes/master/00-datasets/Titanic-test.csv'\n",
        "\n",
        "train = pd.read_csv(url_train)\n",
        "test = pd.read_csv(url_test)"
      ],
      "execution_count": 2,
      "outputs": []
    },
    {
      "cell_type": "markdown",
      "metadata": {
        "id": "dqpUvFdcZdSq",
        "colab_type": "text"
      },
      "source": [
        "O arquivo `train.csv` contém as informações relativas ao treino do modelo (contendo a informação se a pessoa sobreviveu ou não). \n",
        "\n",
        "O arquivo `test.csv` contém as informações relativas ao teste do modelo, exceto as informações de sobrevivência."
      ]
    },
    {
      "cell_type": "markdown",
      "metadata": {
        "id": "E0js7BxXtvB7",
        "colab_type": "text"
      },
      "source": [
        "#Análise Exploratória:\n",
        "A Análise Exploratória é composta por técnicas simples que buscam extrair ou ilustrar as informações contidas nos dados, sem conter nenhuma alteração significativa. Com essa definição, utilizaremos da Visualização de Dados para aumentar a eficiência dessa exploração inicial.\n",
        "\n",
        "A idéia dessa Análise é trabalharmos ela como uma exploração de hipoteses ou duvidas que possamos ter sobre um Data Set e, por isso, nada melhor que utilizarmos perguntas para instigarmos ou elucidar o que queremos achar."
      ]
    },
    {
      "cell_type": "markdown",
      "metadata": {
        "id": "uFSC6vNLXzjb",
        "colab_type": "text"
      },
      "source": [
        "##Q1. Quais são as variáveis do DataSet?\n",
        "A primeira pergunta a se fazer é sobre quais são as variáveis iremos utilizar nos modelos, para entendermos melhor, utilizaremos a função `.head()` que nos mostrará as primeiras entradas do DataSet e cruzaremos as informações com o que é descrito no Kaggle para criarmos nosso **Dicionário de Variáveis**."
      ]
    },
    {
      "cell_type": "code",
      "metadata": {
        "id": "CXhVbH6etAxY",
        "colab_type": "code",
        "colab": {
          "base_uri": "https://localhost:8080/",
          "height": 77
        },
        "outputId": "cb21da1d-f135-4e6c-97f5-590fa608275a"
      },
      "source": [
        "train.head(1)"
      ],
      "execution_count": 3,
      "outputs": [
        {
          "output_type": "execute_result",
          "data": {
            "text/html": [
              "<div>\n",
              "<style scoped>\n",
              "    .dataframe tbody tr th:only-of-type {\n",
              "        vertical-align: middle;\n",
              "    }\n",
              "\n",
              "    .dataframe tbody tr th {\n",
              "        vertical-align: top;\n",
              "    }\n",
              "\n",
              "    .dataframe thead th {\n",
              "        text-align: right;\n",
              "    }\n",
              "</style>\n",
              "<table border=\"1\" class=\"dataframe\">\n",
              "  <thead>\n",
              "    <tr style=\"text-align: right;\">\n",
              "      <th></th>\n",
              "      <th>PassengerId</th>\n",
              "      <th>Survived</th>\n",
              "      <th>Pclass</th>\n",
              "      <th>Name</th>\n",
              "      <th>Sex</th>\n",
              "      <th>Age</th>\n",
              "      <th>SibSp</th>\n",
              "      <th>Parch</th>\n",
              "      <th>Ticket</th>\n",
              "      <th>Fare</th>\n",
              "      <th>Cabin</th>\n",
              "      <th>Embarked</th>\n",
              "    </tr>\n",
              "  </thead>\n",
              "  <tbody>\n",
              "    <tr>\n",
              "      <th>0</th>\n",
              "      <td>1</td>\n",
              "      <td>0</td>\n",
              "      <td>3</td>\n",
              "      <td>Braund, Mr. Owen Harris</td>\n",
              "      <td>male</td>\n",
              "      <td>22.0</td>\n",
              "      <td>1</td>\n",
              "      <td>0</td>\n",
              "      <td>A/5 21171</td>\n",
              "      <td>7.25</td>\n",
              "      <td>NaN</td>\n",
              "      <td>S</td>\n",
              "    </tr>\n",
              "  </tbody>\n",
              "</table>\n",
              "</div>"
            ],
            "text/plain": [
              "   PassengerId  Survived  Pclass  ...  Fare Cabin  Embarked\n",
              "0            1         0       3  ...  7.25   NaN         S\n",
              "\n",
              "[1 rows x 12 columns]"
            ]
          },
          "metadata": {
            "tags": []
          },
          "execution_count": 3
        }
      ]
    },
    {
      "cell_type": "code",
      "metadata": {
        "id": "h5MxUOzytOyG",
        "colab_type": "code",
        "colab": {
          "base_uri": "https://localhost:8080/",
          "height": 77
        },
        "outputId": "1af39235-6ac7-40bf-f089-c26d0895aae7"
      },
      "source": [
        "test.head(1)"
      ],
      "execution_count": 4,
      "outputs": [
        {
          "output_type": "execute_result",
          "data": {
            "text/html": [
              "<div>\n",
              "<style scoped>\n",
              "    .dataframe tbody tr th:only-of-type {\n",
              "        vertical-align: middle;\n",
              "    }\n",
              "\n",
              "    .dataframe tbody tr th {\n",
              "        vertical-align: top;\n",
              "    }\n",
              "\n",
              "    .dataframe thead th {\n",
              "        text-align: right;\n",
              "    }\n",
              "</style>\n",
              "<table border=\"1\" class=\"dataframe\">\n",
              "  <thead>\n",
              "    <tr style=\"text-align: right;\">\n",
              "      <th></th>\n",
              "      <th>PassengerId</th>\n",
              "      <th>Pclass</th>\n",
              "      <th>Name</th>\n",
              "      <th>Sex</th>\n",
              "      <th>Age</th>\n",
              "      <th>SibSp</th>\n",
              "      <th>Parch</th>\n",
              "      <th>Ticket</th>\n",
              "      <th>Fare</th>\n",
              "      <th>Cabin</th>\n",
              "      <th>Embarked</th>\n",
              "    </tr>\n",
              "  </thead>\n",
              "  <tbody>\n",
              "    <tr>\n",
              "      <th>0</th>\n",
              "      <td>892</td>\n",
              "      <td>3</td>\n",
              "      <td>Kelly, Mr. James</td>\n",
              "      <td>male</td>\n",
              "      <td>34.5</td>\n",
              "      <td>0</td>\n",
              "      <td>0</td>\n",
              "      <td>330911</td>\n",
              "      <td>7.8292</td>\n",
              "      <td>NaN</td>\n",
              "      <td>Q</td>\n",
              "    </tr>\n",
              "  </tbody>\n",
              "</table>\n",
              "</div>"
            ],
            "text/plain": [
              "   PassengerId  Pclass              Name   Sex  ...  Ticket    Fare  Cabin Embarked\n",
              "0          892       3  Kelly, Mr. James  male  ...  330911  7.8292    NaN        Q\n",
              "\n",
              "[1 rows x 11 columns]"
            ]
          },
          "metadata": {
            "tags": []
          },
          "execution_count": 4
        }
      ]
    },
    {
      "cell_type": "markdown",
      "metadata": {
        "id": "FRIUb82WtFGg",
        "colab_type": "text"
      },
      "source": [
        "Para que possamos entender qual é o significado de cada variável presente no Datasets, é feito aqui, um dicionário explicando essas variáveis:\n",
        "\n",
        "*  `PassengerId`- Identificação do Passageiro, no dataset de treino varia de 1 a 891 e no dataset de teste varia de 892 a 1309.\n",
        "*  `Survived`- Se o passageiro sobreviveu ou não.\n",
        "*  `Pclass` - Classe do Ticket.\n",
        "*  `Name` - Nome do Passageiro.\n",
        "*  `Sex` - Sexo da pessoa.\n",
        "*  `Age` - Idade.\n",
        "*  `SibSp` -  Número de irmãos presentes no navio.\n",
        "*  `Parch` - Número de parentes presentes no navio.\n",
        "*  `Ticket` - Número do Ticket.\n",
        "*  `Fare` - Tarifa do Passageiro.\n",
        "*  `Cabin` - Número da Cabine\n",
        "*  `Embarked` - Porto de Embarque: C = Cherboug, Q = Queentown, S = Southampton"
      ]
    },
    {
      "cell_type": "markdown",
      "metadata": {
        "id": "x97JoQEatJ1a",
        "colab_type": "text"
      },
      "source": [
        "##Q2. Quais são as dimensões do Data Frame de Treino e Teste?\n",
        "\n",
        "Um dos passos principais da Análise Exploratória é entender as dimensões desses Data Frames, pois assim, conseguiremos ter uma noção de quantos dados estamos analisando e manipulando."
      ]
    },
    {
      "cell_type": "code",
      "metadata": {
        "colab_type": "code",
        "id": "CSR7Z3JxsXPF",
        "colab": {
          "base_uri": "https://localhost:8080/",
          "height": 52
        },
        "outputId": "1a56c7ec-f2a5-4ff7-cd38-1ad71cd1a645"
      },
      "source": [
        "#Imprimindo a quantidade de linhas e colunas dos Data Frames:\n",
        "print(\"O Data Frame de Treino tem: {} linhas e {} colunas\".format(train.shape[0], train.shape[1]))\n",
        "print(\"O Data Frame de Teste tem: {} linhas e {} colunas\".format(test.shape[0], test.shape[1]))"
      ],
      "execution_count": 5,
      "outputs": [
        {
          "output_type": "stream",
          "text": [
            "O Data Frame de Treino tem: 891 linhas e 12 colunas\n",
            "O Data Frame de Teste tem: 418 linhas e 11 colunas\n"
          ],
          "name": "stdout"
        }
      ]
    },
    {
      "cell_type": "markdown",
      "metadata": {
        "id": "OtOMouaGtrNs",
        "colab_type": "text"
      },
      "source": [
        "##Q3. Qual a Porcentagem de Instâncias (Linhas) do Data Frame de Treino sobre o Total?"
      ]
    },
    {
      "cell_type": "code",
      "metadata": {
        "id": "4vYDz-iksX2x",
        "colab_type": "code",
        "colab": {
          "base_uri": "https://localhost:8080/",
          "height": 34
        },
        "outputId": "fa44d183-948c-467e-c1bc-1e6a3087d8a3"
      },
      "source": [
        "#Imprimindo a % de dados de treino sobre o total:\n",
        "print(\"Temos {:.3f}% dos dados estão como treino\".format(train.shape[0]/(train.shape[0]+test.shape[0])*100))"
      ],
      "execution_count": 6,
      "outputs": [
        {
          "output_type": "stream",
          "text": [
            "Temos 68.067% dos dados estão como treino\n"
          ],
          "name": "stdout"
        }
      ]
    },
    {
      "cell_type": "markdown",
      "metadata": {
        "id": "4XDZ3wvtbBO0",
        "colab_type": "text"
      },
      "source": [
        "##Q4. Qual a quantidade de dados nulos existentes (NaN)?\n",
        "Uma das preocupações que devemos ter logo na Análise Exploratória é de sabermos a quantidade de dados nulos existentes no Data Frame, pois haverá alguns modelos que não conseguirão trabalhar com esses tipos de dados e, para isso, deveremos contornar de alguma forma. Usamos as funções `.isnull().sum()` que irão verificar se a entrada possui valor nulo e, em seguida, somar (`.sum()`) a quantidade de valores verdadeiros (que são representados por `True` ou `1`)."
      ]
    },
    {
      "cell_type": "code",
      "metadata": {
        "id": "dQM87dGcslKq",
        "colab_type": "code",
        "colab": {
          "base_uri": "https://localhost:8080/",
          "height": 247
        },
        "outputId": "041281c9-484e-4023-c37e-c681e0d5be81"
      },
      "source": [
        "#Quantos dados nulos estão presentes nesse Data Frame por coluna:\n",
        "train.isnull().sum().sort_values(ascending=False)"
      ],
      "execution_count": 7,
      "outputs": [
        {
          "output_type": "execute_result",
          "data": {
            "text/plain": [
              "Cabin          687\n",
              "Age            177\n",
              "Embarked         2\n",
              "Fare             0\n",
              "Ticket           0\n",
              "Parch            0\n",
              "SibSp            0\n",
              "Sex              0\n",
              "Name             0\n",
              "Pclass           0\n",
              "Survived         0\n",
              "PassengerId      0\n",
              "dtype: int64"
            ]
          },
          "metadata": {
            "tags": []
          },
          "execution_count": 7
        }
      ]
    },
    {
      "cell_type": "markdown",
      "metadata": {
        "id": "-xWCF5FQbjsw",
        "colab_type": "text"
      },
      "source": [
        "##Q5. Quais são os tipos de dados das nossas colunas?\n",
        "Outra preocupação que deve ser investigada logo no começo, pois podemos achar que estamos manipulando valores númericos como `int64` ou `float64`, mas na verdade estaríamos trabalhando com `strings` que são acusados como `object`.\n",
        "\n",
        "Para isso, utilizamos o atributo `.dtypes`."
      ]
    },
    {
      "cell_type": "code",
      "metadata": {
        "id": "JiTLuM3NsmS2",
        "colab_type": "code",
        "colab": {
          "base_uri": "https://localhost:8080/",
          "height": 247
        },
        "outputId": "d0960610-1760-409b-b6a5-f91f898d52ad"
      },
      "source": [
        "#Verificando os tipos das variáveis:\n",
        "train.dtypes"
      ],
      "execution_count": 8,
      "outputs": [
        {
          "output_type": "execute_result",
          "data": {
            "text/plain": [
              "PassengerId      int64\n",
              "Survived         int64\n",
              "Pclass           int64\n",
              "Name            object\n",
              "Sex             object\n",
              "Age            float64\n",
              "SibSp            int64\n",
              "Parch            int64\n",
              "Ticket          object\n",
              "Fare           float64\n",
              "Cabin           object\n",
              "Embarked        object\n",
              "dtype: object"
            ]
          },
          "metadata": {
            "tags": []
          },
          "execution_count": 8
        }
      ]
    },
    {
      "cell_type": "markdown",
      "metadata": {
        "id": "OBpbhc7cc8VM",
        "colab_type": "text"
      },
      "source": [
        "##Q6. Quais são as Descrições Estatísticas?\n",
        "\n",
        "Outro fator que deve ser observado é as variáveis numericas e suas distribuições, para isso é utilizado `.describe()`"
      ]
    },
    {
      "cell_type": "code",
      "metadata": {
        "id": "AyNbkBocs-pK",
        "colab_type": "code",
        "colab": {
          "base_uri": "https://localhost:8080/",
          "height": 287
        },
        "outputId": "13d57830-ce9c-4ad5-cc0b-5feb2fc2cc66"
      },
      "source": [
        "#Informações Estatísticas Descritivas.\n",
        "train.describe().round(2)"
      ],
      "execution_count": 9,
      "outputs": [
        {
          "output_type": "execute_result",
          "data": {
            "text/html": [
              "<div>\n",
              "<style scoped>\n",
              "    .dataframe tbody tr th:only-of-type {\n",
              "        vertical-align: middle;\n",
              "    }\n",
              "\n",
              "    .dataframe tbody tr th {\n",
              "        vertical-align: top;\n",
              "    }\n",
              "\n",
              "    .dataframe thead th {\n",
              "        text-align: right;\n",
              "    }\n",
              "</style>\n",
              "<table border=\"1\" class=\"dataframe\">\n",
              "  <thead>\n",
              "    <tr style=\"text-align: right;\">\n",
              "      <th></th>\n",
              "      <th>PassengerId</th>\n",
              "      <th>Survived</th>\n",
              "      <th>Pclass</th>\n",
              "      <th>Age</th>\n",
              "      <th>SibSp</th>\n",
              "      <th>Parch</th>\n",
              "      <th>Fare</th>\n",
              "    </tr>\n",
              "  </thead>\n",
              "  <tbody>\n",
              "    <tr>\n",
              "      <th>count</th>\n",
              "      <td>891.00</td>\n",
              "      <td>891.00</td>\n",
              "      <td>891.00</td>\n",
              "      <td>714.00</td>\n",
              "      <td>891.00</td>\n",
              "      <td>891.00</td>\n",
              "      <td>891.00</td>\n",
              "    </tr>\n",
              "    <tr>\n",
              "      <th>mean</th>\n",
              "      <td>446.00</td>\n",
              "      <td>0.38</td>\n",
              "      <td>2.31</td>\n",
              "      <td>29.70</td>\n",
              "      <td>0.52</td>\n",
              "      <td>0.38</td>\n",
              "      <td>32.20</td>\n",
              "    </tr>\n",
              "    <tr>\n",
              "      <th>std</th>\n",
              "      <td>257.35</td>\n",
              "      <td>0.49</td>\n",
              "      <td>0.84</td>\n",
              "      <td>14.53</td>\n",
              "      <td>1.10</td>\n",
              "      <td>0.81</td>\n",
              "      <td>49.69</td>\n",
              "    </tr>\n",
              "    <tr>\n",
              "      <th>min</th>\n",
              "      <td>1.00</td>\n",
              "      <td>0.00</td>\n",
              "      <td>1.00</td>\n",
              "      <td>0.42</td>\n",
              "      <td>0.00</td>\n",
              "      <td>0.00</td>\n",
              "      <td>0.00</td>\n",
              "    </tr>\n",
              "    <tr>\n",
              "      <th>25%</th>\n",
              "      <td>223.50</td>\n",
              "      <td>0.00</td>\n",
              "      <td>2.00</td>\n",
              "      <td>20.12</td>\n",
              "      <td>0.00</td>\n",
              "      <td>0.00</td>\n",
              "      <td>7.91</td>\n",
              "    </tr>\n",
              "    <tr>\n",
              "      <th>50%</th>\n",
              "      <td>446.00</td>\n",
              "      <td>0.00</td>\n",
              "      <td>3.00</td>\n",
              "      <td>28.00</td>\n",
              "      <td>0.00</td>\n",
              "      <td>0.00</td>\n",
              "      <td>14.45</td>\n",
              "    </tr>\n",
              "    <tr>\n",
              "      <th>75%</th>\n",
              "      <td>668.50</td>\n",
              "      <td>1.00</td>\n",
              "      <td>3.00</td>\n",
              "      <td>38.00</td>\n",
              "      <td>1.00</td>\n",
              "      <td>0.00</td>\n",
              "      <td>31.00</td>\n",
              "    </tr>\n",
              "    <tr>\n",
              "      <th>max</th>\n",
              "      <td>891.00</td>\n",
              "      <td>1.00</td>\n",
              "      <td>3.00</td>\n",
              "      <td>80.00</td>\n",
              "      <td>8.00</td>\n",
              "      <td>6.00</td>\n",
              "      <td>512.33</td>\n",
              "    </tr>\n",
              "  </tbody>\n",
              "</table>\n",
              "</div>"
            ],
            "text/plain": [
              "       PassengerId  Survived  Pclass     Age   SibSp   Parch    Fare\n",
              "count       891.00    891.00  891.00  714.00  891.00  891.00  891.00\n",
              "mean        446.00      0.38    2.31   29.70    0.52    0.38   32.20\n",
              "std         257.35      0.49    0.84   14.53    1.10    0.81   49.69\n",
              "min           1.00      0.00    1.00    0.42    0.00    0.00    0.00\n",
              "25%         223.50      0.00    2.00   20.12    0.00    0.00    7.91\n",
              "50%         446.00      0.00    3.00   28.00    0.00    0.00   14.45\n",
              "75%         668.50      1.00    3.00   38.00    1.00    0.00   31.00\n",
              "max         891.00      1.00    3.00   80.00    8.00    6.00  512.33"
            ]
          },
          "metadata": {
            "tags": []
          },
          "execution_count": 9
        }
      ]
    },
    {
      "cell_type": "markdown",
      "metadata": {
        "id": "5FNkDT5YvkZJ",
        "colab_type": "text"
      },
      "source": [
        "Outra forma de observar a distribuição das variáveis numéricas se da pelo plot dos histogramas das mesmas."
      ]
    },
    {
      "cell_type": "code",
      "metadata": {
        "id": "XYyf40SX6fE8",
        "colab_type": "code",
        "colab": {
          "base_uri": "https://localhost:8080/",
          "height": 606
        },
        "outputId": "1e9cc52e-0b5c-4d65-9f3e-9f1cc29a3286"
      },
      "source": [
        "#Plot de Histogramas:\n",
        "train.hist(figsize = (15,10));"
      ],
      "execution_count": 10,
      "outputs": [
        {
          "output_type": "display_data",
          "data": {
            "image/png": "[encoded data removed]",
            "text/plain": [
              "<Figure size 1080x720 with 9 Axes>"
            ]
          },
          "metadata": {
            "tags": [],
            "needs_background": "light"
          }
        }
      ]
    },
    {
      "cell_type": "markdown",
      "metadata": {
        "id": "iBAufg9Zxeh6",
        "colab_type": "text"
      },
      "source": [
        "## Q7. Qual é a repetição dos Titulos de nomes?"
      ]
    },
    {
      "cell_type": "code",
      "metadata": {
        "id": "mZPodyar9_nJ",
        "colab_type": "code",
        "colab": {
          "base_uri": "https://localhost:8080/",
          "height": 587
        },
        "outputId": "a92b2335-7fb0-4879-e2e0-76509b77ce4f"
      },
      "source": [
        "#Extraindo os Tituls:\n",
        "train['Title'] = train.Name.str.extract(' ([A-Za-z]+)\\.', expand=False)\n",
        "\n",
        "#Separando os sexos:\n",
        "pd.crosstab(train['Title'], train['Sex'])"
      ],
      "execution_count": 11,
      "outputs": [
        {
          "output_type": "execute_result",
          "data": {
            "text/html": [
              "<div>\n",
              "<style scoped>\n",
              "    .dataframe tbody tr th:only-of-type {\n",
              "        vertical-align: middle;\n",
              "    }\n",
              "\n",
              "    .dataframe tbody tr th {\n",
              "        vertical-align: top;\n",
              "    }\n",
              "\n",
              "    .dataframe thead th {\n",
              "        text-align: right;\n",
              "    }\n",
              "</style>\n",
              "<table border=\"1\" class=\"dataframe\">\n",
              "  <thead>\n",
              "    <tr style=\"text-align: right;\">\n",
              "      <th>Sex</th>\n",
              "      <th>female</th>\n",
              "      <th>male</th>\n",
              "    </tr>\n",
              "    <tr>\n",
              "      <th>Title</th>\n",
              "      <th></th>\n",
              "      <th></th>\n",
              "    </tr>\n",
              "  </thead>\n",
              "  <tbody>\n",
              "    <tr>\n",
              "      <th>Capt</th>\n",
              "      <td>0</td>\n",
              "      <td>1</td>\n",
              "    </tr>\n",
              "    <tr>\n",
              "      <th>Col</th>\n",
              "      <td>0</td>\n",
              "      <td>2</td>\n",
              "    </tr>\n",
              "    <tr>\n",
              "      <th>Countess</th>\n",
              "      <td>1</td>\n",
              "      <td>0</td>\n",
              "    </tr>\n",
              "    <tr>\n",
              "      <th>Don</th>\n",
              "      <td>0</td>\n",
              "      <td>1</td>\n",
              "    </tr>\n",
              "    <tr>\n",
              "      <th>Dr</th>\n",
              "      <td>1</td>\n",
              "      <td>6</td>\n",
              "    </tr>\n",
              "    <tr>\n",
              "      <th>Jonkheer</th>\n",
              "      <td>0</td>\n",
              "      <td>1</td>\n",
              "    </tr>\n",
              "    <tr>\n",
              "      <th>Lady</th>\n",
              "      <td>1</td>\n",
              "      <td>0</td>\n",
              "    </tr>\n",
              "    <tr>\n",
              "      <th>Major</th>\n",
              "      <td>0</td>\n",
              "      <td>2</td>\n",
              "    </tr>\n",
              "    <tr>\n",
              "      <th>Master</th>\n",
              "      <td>0</td>\n",
              "      <td>40</td>\n",
              "    </tr>\n",
              "    <tr>\n",
              "      <th>Miss</th>\n",
              "      <td>182</td>\n",
              "      <td>0</td>\n",
              "    </tr>\n",
              "    <tr>\n",
              "      <th>Mlle</th>\n",
              "      <td>2</td>\n",
              "      <td>0</td>\n",
              "    </tr>\n",
              "    <tr>\n",
              "      <th>Mme</th>\n",
              "      <td>1</td>\n",
              "      <td>0</td>\n",
              "    </tr>\n",
              "    <tr>\n",
              "      <th>Mr</th>\n",
              "      <td>0</td>\n",
              "      <td>517</td>\n",
              "    </tr>\n",
              "    <tr>\n",
              "      <th>Mrs</th>\n",
              "      <td>125</td>\n",
              "      <td>0</td>\n",
              "    </tr>\n",
              "    <tr>\n",
              "      <th>Ms</th>\n",
              "      <td>1</td>\n",
              "      <td>0</td>\n",
              "    </tr>\n",
              "    <tr>\n",
              "      <th>Rev</th>\n",
              "      <td>0</td>\n",
              "      <td>6</td>\n",
              "    </tr>\n",
              "    <tr>\n",
              "      <th>Sir</th>\n",
              "      <td>0</td>\n",
              "      <td>1</td>\n",
              "    </tr>\n",
              "  </tbody>\n",
              "</table>\n",
              "</div>"
            ],
            "text/plain": [
              "Sex       female  male\n",
              "Title                 \n",
              "Capt           0     1\n",
              "Col            0     2\n",
              "Countess       1     0\n",
              "Don            0     1\n",
              "Dr             1     6\n",
              "Jonkheer       0     1\n",
              "Lady           1     0\n",
              "Major          0     2\n",
              "Master         0    40\n",
              "Miss         182     0\n",
              "Mlle           2     0\n",
              "Mme            1     0\n",
              "Mr             0   517\n",
              "Mrs          125     0\n",
              "Ms             1     0\n",
              "Rev            0     6\n",
              "Sir            0     1"
            ]
          },
          "metadata": {
            "tags": []
          },
          "execution_count": 11
        }
      ]
    },
    {
      "cell_type": "markdown",
      "metadata": {
        "id": "c-0Y40WUBHJ_",
        "colab_type": "text"
      },
      "source": [
        "#Análise da Sobrevivência:\n",
        "\n",
        "Aqui estarão as análises envolvendo fatores de sobrevivência:"
      ]
    },
    {
      "cell_type": "code",
      "metadata": {
        "id": "GxLMSct2_g8i",
        "colab_type": "code",
        "colab": {
          "base_uri": "https://localhost:8080/",
          "height": 557
        },
        "outputId": "a73ad201-f5be-4a6d-9715-e3439dedc694"
      },
      "source": [
        "train[['Title', 'Survived']].groupby(['Title'], as_index=False).mean()"
      ],
      "execution_count": 12,
      "outputs": [
        {
          "output_type": "execute_result",
          "data": {
            "text/html": [
              "<div>\n",
              "<style scoped>\n",
              "    .dataframe tbody tr th:only-of-type {\n",
              "        vertical-align: middle;\n",
              "    }\n",
              "\n",
              "    .dataframe tbody tr th {\n",
              "        vertical-align: top;\n",
              "    }\n",
              "\n",
              "    .dataframe thead th {\n",
              "        text-align: right;\n",
              "    }\n",
              "</style>\n",
              "<table border=\"1\" class=\"dataframe\">\n",
              "  <thead>\n",
              "    <tr style=\"text-align: right;\">\n",
              "      <th></th>\n",
              "      <th>Title</th>\n",
              "      <th>Survived</th>\n",
              "    </tr>\n",
              "  </thead>\n",
              "  <tbody>\n",
              "    <tr>\n",
              "      <th>0</th>\n",
              "      <td>Capt</td>\n",
              "      <td>0.000000</td>\n",
              "    </tr>\n",
              "    <tr>\n",
              "      <th>1</th>\n",
              "      <td>Col</td>\n",
              "      <td>0.500000</td>\n",
              "    </tr>\n",
              "    <tr>\n",
              "      <th>2</th>\n",
              "      <td>Countess</td>\n",
              "      <td>1.000000</td>\n",
              "    </tr>\n",
              "    <tr>\n",
              "      <th>3</th>\n",
              "      <td>Don</td>\n",
              "      <td>0.000000</td>\n",
              "    </tr>\n",
              "    <tr>\n",
              "      <th>4</th>\n",
              "      <td>Dr</td>\n",
              "      <td>0.428571</td>\n",
              "    </tr>\n",
              "    <tr>\n",
              "      <th>5</th>\n",
              "      <td>Jonkheer</td>\n",
              "      <td>0.000000</td>\n",
              "    </tr>\n",
              "    <tr>\n",
              "      <th>6</th>\n",
              "      <td>Lady</td>\n",
              "      <td>1.000000</td>\n",
              "    </tr>\n",
              "    <tr>\n",
              "      <th>7</th>\n",
              "      <td>Major</td>\n",
              "      <td>0.500000</td>\n",
              "    </tr>\n",
              "    <tr>\n",
              "      <th>8</th>\n",
              "      <td>Master</td>\n",
              "      <td>0.575000</td>\n",
              "    </tr>\n",
              "    <tr>\n",
              "      <th>9</th>\n",
              "      <td>Miss</td>\n",
              "      <td>0.697802</td>\n",
              "    </tr>\n",
              "    <tr>\n",
              "      <th>10</th>\n",
              "      <td>Mlle</td>\n",
              "      <td>1.000000</td>\n",
              "    </tr>\n",
              "    <tr>\n",
              "      <th>11</th>\n",
              "      <td>Mme</td>\n",
              "      <td>1.000000</td>\n",
              "    </tr>\n",
              "    <tr>\n",
              "      <th>12</th>\n",
              "      <td>Mr</td>\n",
              "      <td>0.156673</td>\n",
              "    </tr>\n",
              "    <tr>\n",
              "      <th>13</th>\n",
              "      <td>Mrs</td>\n",
              "      <td>0.792000</td>\n",
              "    </tr>\n",
              "    <tr>\n",
              "      <th>14</th>\n",
              "      <td>Ms</td>\n",
              "      <td>1.000000</td>\n",
              "    </tr>\n",
              "    <tr>\n",
              "      <th>15</th>\n",
              "      <td>Rev</td>\n",
              "      <td>0.000000</td>\n",
              "    </tr>\n",
              "    <tr>\n",
              "      <th>16</th>\n",
              "      <td>Sir</td>\n",
              "      <td>1.000000</td>\n",
              "    </tr>\n",
              "  </tbody>\n",
              "</table>\n",
              "</div>"
            ],
            "text/plain": [
              "       Title  Survived\n",
              "0       Capt  0.000000\n",
              "1        Col  0.500000\n",
              "2   Countess  1.000000\n",
              "3        Don  0.000000\n",
              "4         Dr  0.428571\n",
              "5   Jonkheer  0.000000\n",
              "6       Lady  1.000000\n",
              "7      Major  0.500000\n",
              "8     Master  0.575000\n",
              "9       Miss  0.697802\n",
              "10      Mlle  1.000000\n",
              "11       Mme  1.000000\n",
              "12        Mr  0.156673\n",
              "13       Mrs  0.792000\n",
              "14        Ms  1.000000\n",
              "15       Rev  0.000000\n",
              "16       Sir  1.000000"
            ]
          },
          "metadata": {
            "tags": []
          },
          "execution_count": 12
        }
      ]
    },
    {
      "cell_type": "markdown",
      "metadata": {
        "id": "uv2Xih_Vu0P2",
        "colab_type": "text"
      },
      "source": [
        "#Primeiras Correções:\n",
        "\n",
        "*  Primeira correção à ser feita é alterar o Sexo para variáveis binárias (0 e 1);\n",
        "\n",
        "*  Segunda correção à ser feita é sobre onde os passageiros embarcaram;\n",
        "\n",
        "*  Criar uma variável para passageiros que viajaram sozinho;"
      ]
    },
    {
      "cell_type": "code",
      "metadata": {
        "id": "Rs305iDMu4Pr",
        "colab_type": "code",
        "colab": {}
      },
      "source": [
        "#Datasets que serão corrigidos:\n",
        "combinar = [train, test]\n",
        "\n",
        "for dataset in combinar:\n",
        "  #Arrumando o Sexo female e male para 0 e 1:\n",
        "  dataset['Sex'] = dataset['Sex'].map(lambda x: 0 if x == 'female' else 1)\n",
        "\n",
        "  #Arrumando o local de embarque:\n",
        "  dataset['Embark'] = dataset['Embarked'].map(lambda x: 1 if x == 'C' else 2 if x == 'S' else 3 if x == 'Q' else 0)\n",
        "\n",
        "  #Criando uma variável para passageiros que viajaram sozinho:\n",
        "  dataset['Sozinho'] = 0\n",
        "  dataset.loc[(dataset['SibSp'] + dataset['Parch']) == 0, 'Sozinho'] = 1 \n",
        "\n",
        "  #Extraindo os nomes:\n",
        "  dataset['Title'] = dataset.Name.str.extract(' ([A-Za-z]+)\\.', expand=False)\n",
        "\n",
        "  #Trocando os titulos para variáveis mais comuns:\n",
        "  dataset['Title'] = dataset['Title'].replace(['Capt', 'Col', 'Countess', 'Don', 'Dona', 'Dr'\n",
        "                                              , 'Jonkheer', 'Lady', 'Major', 'Rev', 'Sir'], 'Raro')\n",
        "  dataset['Title'] = dataset['Title'].replace('Mlle', 'Miss')\n",
        "  dataset['Title'] = dataset['Title'].replace('Ms', 'Miss')\n",
        "  dataset['Title'] = dataset['Title'].replace('Mme', 'Mrs')\n",
        "\n",
        "  #Criando novas variáveis para testes futuros:\n",
        "  dataset['Mr'] = dataset['Title'].map(lambda x: 1 if x =='Mr' else 0)\n",
        "  dataset['Miss'] = dataset['Title'].map(lambda x: 1 if x =='Miss' else 0)\n",
        "  dataset['Mrs'] = dataset['Title'].map(lambda x: 1 if x =='Mrs' else 0)\n",
        "  dataset['Master'] = dataset['Title'].map(lambda x: 1 if x =='Master' else 0)\n",
        "  dataset['Raro'] = dataset['Title'].map(lambda x: 1 if x =='Raro' else 0)\n",
        "\n",
        "  #Transformando variáveis categoricas em números:\n",
        "  correcao = {\"Mr\": 1, \"Miss\": 2, \"Mrs\": 3, \"Master\": 4, \"Raro\": 5}\n",
        "  dataset['Title'] = dataset['Title'].map(correcao)\n",
        "\n",
        "  #Criando um Intervalo de Idade:\n",
        "  dataset['IntervaloIdade'] = 0\n",
        "\n",
        "  dataset.loc[(dataset['Age'] > 16) & (dataset['Age'] <= 32), 'IntervaloIdade'] = 1\n",
        "  dataset.loc[(dataset['Age'] > 32) & (dataset['Age'] <= 48), 'IntervaloIdade'] = 2\n",
        "  dataset.loc[(dataset['Age'] > 48) & (dataset['Age'] <= 64), 'IntervaloIdade'] = 3\n",
        "  dataset.loc[( dataset['Age'] > 64), 'IntervaloIdade'] = 4\n",
        "\n",
        "  dataset.fillna(0, inplace=True)\n",
        "\n",
        "  #Retirando as colunas desnecessárias:\n",
        "  dataset.drop(['Embarked', 'Ticket', 'Cabin', 'SibSp', 'Parch', 'Name'], axis = 1, inplace=True)"
      ],
      "execution_count": 13,
      "outputs": []
    },
    {
      "cell_type": "markdown",
      "metadata": {
        "id": "fWPKx7DIu18p",
        "colab_type": "text"
      },
      "source": [
        "# Elaboração de Modelos de ML:\n",
        "## Gerando o subconjunto de treino teste."
      ]
    },
    {
      "cell_type": "code",
      "metadata": {
        "id": "9yOUvF0ZBvoj",
        "colab_type": "code",
        "colab": {}
      },
      "source": [
        "#Seleciona as variáveis que serão utilizadas no modelo:\n",
        "variaveis = ['Pclass', 'Sex', 'Age', 'Fare', 'Embark', 'Sozinho', 'Title', 'IntervaloIdade']\n",
        "\n",
        "#Corta o Data Frame para as variáveis selecionadas:\n",
        "X = train[variaveis].fillna(-1)\n",
        "y = train['Survived']"
      ],
      "execution_count": 14,
      "outputs": []
    },
    {
      "cell_type": "code",
      "metadata": {
        "id": "4KE3C31Nvfn_",
        "colab_type": "code",
        "colab": {
          "base_uri": "https://localhost:8080/",
          "height": 105
        },
        "outputId": "413eea13-2112-42e7-bb04-d0ac6f2c6c66"
      },
      "source": [
        "X_train = train[variaveis]\n",
        "X_train.fillna(-1, inplace = True)\n",
        "y_train = train.Survived\n",
        "\n",
        "X_test = test[variaveis]\n",
        "X_test.fillna(-1, inplace = True)"
      ],
      "execution_count": 15,
      "outputs": [
        {
          "output_type": "stream",
          "text": [
            "/usr/local/lib/python3.6/dist-packages/pandas/core/frame.py:4153: SettingWithCopyWarning: \n",
            "A value is trying to be set on a copy of a slice from a DataFrame\n",
            "\n",
            "See the caveats in the documentation: https://pandas.pydata.org/pandas-docs/stable/user_guide/indexing.html#returning-a-view-versus-a-copy\n",
            "  downcast=downcast,\n"
          ],
          "name": "stderr"
        }
      ]
    },
    {
      "cell_type": "markdown",
      "metadata": {
        "id": "Nmd67uReDfmG",
        "colab_type": "text"
      },
      "source": [
        "## Pré Processamentos Utilizados:"
      ]
    },
    {
      "cell_type": "code",
      "metadata": {
        "id": "RefReKBcDlUx",
        "colab_type": "code",
        "colab": {}
      },
      "source": [
        "# Cross Validation - Validação Cruzada:\n",
        "\n",
        "from sklearn.model_selection import cross_validate"
      ],
      "execution_count": 16,
      "outputs": []
    },
    {
      "cell_type": "markdown",
      "metadata": {
        "id": "s1f-f2F1Cr4B",
        "colab_type": "text"
      },
      "source": [
        "## Modelos Utilizados:"
      ]
    },
    {
      "cell_type": "code",
      "metadata": {
        "id": "Oh8BAYbLDcCR",
        "colab_type": "code",
        "colab": {}
      },
      "source": [
        "# Classificação Supervisionada:\n",
        "from sklearn.ensemble import AdaBoostClassifier, GradientBoostingClassifier, RandomForestClassifier\n",
        "from sklearn.linear_model import LogisticRegression\n",
        "from sklearn.naive_bayes import GaussianNB\n",
        "from sklearn.neighbors import KNeighborsClassifier\n",
        "from sklearn.tree import DecisionTreeClassifier\n",
        "from sklearn.svm import SVC\n",
        "from xgboost import XGBClassifier\n",
        "\n",
        "#MLA -> Machine Learning Algorithms (Algoritmos de Machine Learning):\n",
        "\n",
        "MLA = [#Modelos Ensemble:\n",
        "       AdaBoostClassifier(),\n",
        "       GradientBoostingClassifier(),\n",
        "       RandomForestClassifier(n_estimators=10, n_jobs=1, random_state=0), \n",
        "\n",
        "       #Modelos Lineares:\n",
        "       LogisticRegression(max_iter=1000),\n",
        "\n",
        "       #Naive Bayes:\n",
        "       GaussianNB(),\n",
        "       \n",
        "       #KNN:\n",
        "       KNeighborsClassifier(),\n",
        "\n",
        "       #Decision Tree Classifier:\n",
        "       DecisionTreeClassifier(),\n",
        "\n",
        "       #SVC:\n",
        "       SVC(max_iter=10000),\n",
        "       \n",
        "       #XGB:\n",
        "       XGBClassifier(max_iter=1000)]"
      ],
      "execution_count": 17,
      "outputs": []
    },
    {
      "cell_type": "markdown",
      "metadata": {
        "id": "fcmnaQ-FEgOc",
        "colab_type": "text"
      },
      "source": [
        "## Modelos:"
      ]
    },
    {
      "cell_type": "code",
      "metadata": {
        "id": "QxeV3RGji6BM",
        "colab_type": "code",
        "colab": {
          "base_uri": "https://localhost:8080/",
          "height": 317
        },
        "outputId": "406a76b9-19d9-497a-d4d5-51a9673b160e"
      },
      "source": [
        "#Elaborando previsões para diversos modelos e comparando entre eles:\n",
        "\n",
        "MLA_df = pd.DataFrame(columns = ['MLA Nome', 'Acuracia Treino', 'Acuracia Teste'])\n",
        "\n",
        "linha = 0\n",
        "\n",
        "for alg in MLA:\n",
        "  cv_resultados = cross_validate(alg, X, y, cv=10, return_train_score=True)\n",
        "  \n",
        "  MLA_df.loc[linha, 'MLA Nome'] = alg.__class__.__name__\n",
        "  MLA_df.loc[linha, 'Acuracia Treino'] = cv_resultados['train_score'].mean()\n",
        "  MLA_df.loc[linha, 'Acuracia Teste'] = cv_resultados['test_score'].mean()\n",
        "\n",
        "  linha += 1\n",
        "MLA_df"
      ],
      "execution_count": 18,
      "outputs": [
        {
          "output_type": "execute_result",
          "data": {
            "text/html": [
              "<div>\n",
              "<style scoped>\n",
              "    .dataframe tbody tr th:only-of-type {\n",
              "        vertical-align: middle;\n",
              "    }\n",
              "\n",
              "    .dataframe tbody tr th {\n",
              "        vertical-align: top;\n",
              "    }\n",
              "\n",
              "    .dataframe thead th {\n",
              "        text-align: right;\n",
              "    }\n",
              "</style>\n",
              "<table border=\"1\" class=\"dataframe\">\n",
              "  <thead>\n",
              "    <tr style=\"text-align: right;\">\n",
              "      <th></th>\n",
              "      <th>MLA Nome</th>\n",
              "      <th>Acuracia Treino</th>\n",
              "      <th>Acuracia Teste</th>\n",
              "    </tr>\n",
              "  </thead>\n",
              "  <tbody>\n",
              "    <tr>\n",
              "      <th>0</th>\n",
              "      <td>AdaBoostClassifier</td>\n",
              "      <td>0.841377</td>\n",
              "      <td>0.818215</td>\n",
              "    </tr>\n",
              "    <tr>\n",
              "      <th>1</th>\n",
              "      <td>GradientBoostingClassifier</td>\n",
              "      <td>0.901984</td>\n",
              "      <td>0.835081</td>\n",
              "    </tr>\n",
              "    <tr>\n",
              "      <th>2</th>\n",
              "      <td>RandomForestClassifier</td>\n",
              "      <td>0.969447</td>\n",
              "      <td>0.817129</td>\n",
              "    </tr>\n",
              "    <tr>\n",
              "      <th>3</th>\n",
              "      <td>LogisticRegression</td>\n",
              "      <td>0.787755</td>\n",
              "      <td>0.769913</td>\n",
              "    </tr>\n",
              "    <tr>\n",
              "      <th>4</th>\n",
              "      <td>GaussianNB</td>\n",
              "      <td>0.783388</td>\n",
              "      <td>0.773358</td>\n",
              "    </tr>\n",
              "    <tr>\n",
              "      <th>5</th>\n",
              "      <td>KNeighborsClassifier</td>\n",
              "      <td>0.809453</td>\n",
              "      <td>0.707116</td>\n",
              "    </tr>\n",
              "    <tr>\n",
              "      <th>6</th>\n",
              "      <td>DecisionTreeClassifier</td>\n",
              "      <td>0.98541</td>\n",
              "      <td>0.793521</td>\n",
              "    </tr>\n",
              "    <tr>\n",
              "      <th>7</th>\n",
              "      <td>SVC</td>\n",
              "      <td>0.681632</td>\n",
              "      <td>0.679101</td>\n",
              "    </tr>\n",
              "    <tr>\n",
              "      <th>8</th>\n",
              "      <td>XGBClassifier</td>\n",
              "      <td>0.890637</td>\n",
              "      <td>0.830587</td>\n",
              "    </tr>\n",
              "  </tbody>\n",
              "</table>\n",
              "</div>"
            ],
            "text/plain": [
              "                     MLA Nome Acuracia Treino Acuracia Teste\n",
              "0          AdaBoostClassifier        0.841377       0.818215\n",
              "1  GradientBoostingClassifier        0.901984       0.835081\n",
              "2      RandomForestClassifier        0.969447       0.817129\n",
              "3          LogisticRegression        0.787755       0.769913\n",
              "4                  GaussianNB        0.783388       0.773358\n",
              "5        KNeighborsClassifier        0.809453       0.707116\n",
              "6      DecisionTreeClassifier         0.98541       0.793521\n",
              "7                         SVC        0.681632       0.679101\n",
              "8               XGBClassifier        0.890637       0.830587"
            ]
          },
          "metadata": {
            "tags": []
          },
          "execution_count": 18
        }
      ]
    },
    {
      "cell_type": "code",
      "metadata": {
        "id": "ysmQnyRcUDZi",
        "colab_type": "code",
        "colab": {
          "base_uri": "https://localhost:8080/",
          "height": 278
        },
        "outputId": "58ef59bd-fe02-4225-a0ec-5c00865895d9"
      },
      "source": [
        "ax = sns.barplot(x = 'Acuracia Teste', y = 'MLA Nome', data = MLA_df)"
      ],
      "execution_count": 19,
      "outputs": [
        {
          "output_type": "display_data",
          "data": {
            "image/png": "[encoded data removed]",
            "text/plain": [
              "<Figure size 432x288 with 1 Axes>"
            ]
          },
          "metadata": {
            "tags": [],
            "needs_background": "light"
          }
        }
      ]
    },
    {
      "cell_type": "markdown",
      "metadata": {
        "id": "nlypXd7xckD4",
        "colab_type": "text"
      },
      "source": [
        "###Decision Tree Classifier:\n",
        "\n",
        "Visualizando os notebooks do Titanic, foi visto que um dos notebooks utilizou a Decision Tree Classifier para a predição. Porém, sem utilizar a variável de Idade."
      ]
    },
    {
      "cell_type": "code",
      "metadata": {
        "id": "ADUwPcgGcjPy",
        "colab_type": "code",
        "colab": {
          "base_uri": "https://localhost:8080/",
          "height": 34
        },
        "outputId": "8c8c2248-477b-484d-ad68-0b70ca87ae00"
      },
      "source": [
        "X_dec = X.drop('Age', axis = 1)\n",
        "modelo = cross_validate(DecisionTreeClassifier(min_samples_leaf=5, max_depth=3), X_dec, y, cv=4)\n",
        "modelo['test_score'].mean()"
      ],
      "execution_count": 20,
      "outputs": [
        {
          "output_type": "execute_result",
          "data": {
            "text/plain": [
              "0.8215771825637297"
            ]
          },
          "metadata": {
            "tags": []
          },
          "execution_count": 20
        }
      ]
    },
    {
      "cell_type": "markdown",
      "metadata": {
        "id": "Ny1ebZDOj4di",
        "colab_type": "text"
      },
      "source": [
        "###Deep Learning"
      ]
    },
    {
      "cell_type": "code",
      "metadata": {
        "id": "9X7WCNuCj63o",
        "colab_type": "code",
        "colab": {
          "base_uri": "https://localhost:8080/",
          "height": 516
        },
        "outputId": "32f22728-f798-430c-9063-8734ff4f3624"
      },
      "source": [
        "import tensorflow as tf\n",
        "from tensorflow import keras\n",
        "\n",
        "X_deep_train = train.drop(['Survived', 'PassengerId', 'Age', 'IntervaloIdade'], axis = 1)\n",
        "#X_deep_valid = train.drop(['Survived', 'PassengerId'], axis = 1)\n",
        "y_deep_train = train.Survived\n",
        "#y_deep_valid = train.Survived[:200]\n",
        "\n",
        "model = keras.models.Sequential()\n",
        "model.add(keras.layers.Dense(1000, activation='sigmoid'))\n",
        "model.add(keras.layers.BatchNormalization(axis=1))\n",
        "model.add(keras.layers.Dense(50, activation='softmax'))\n",
        "\n",
        "model.compile(optimizer='sgd', loss='sparse_categorical_crossentropy', metrics='accuracy')\n",
        "\n",
        "model.fit(X_deep_train, y_deep_train, epochs=10, validation_split=0.3)"
      ],
      "execution_count": 21,
      "outputs": [
        {
          "output_type": "stream",
          "text": [
            "Epoch 1/10\n",
            "WARNING:tensorflow:Layer dense is casting an input tensor from dtype float64 to the layer's dtype of float32, which is new behavior in TensorFlow 2.  The layer has dtype float32 because it's dtype defaults to floatx.\n",
            "\n",
            "If you intended to run this layer in float32, you can safely ignore this warning. If in doubt, this warning is likely only an issue if you are porting a TensorFlow 1.X model to TensorFlow 2.\n",
            "\n",
            "To change all layers to have dtype float64 by default, call `tf.keras.backend.set_floatx('float64')`. To change just this layer, pass dtype='float64' to the layer constructor. If you are the author of this layer, you can disable autocasting by passing autocast=False to the base Layer constructor.\n",
            "\n",
            "20/20 [==============================] - 0s 12ms/step - loss: 3.3697 - accuracy: 0.5457 - val_loss: 3.9840 - val_accuracy: 0.0000e+00\n",
            "Epoch 2/10\n",
            "20/20 [==============================] - 0s 4ms/step - loss: 2.7369 - accuracy: 0.6677 - val_loss: 3.6038 - val_accuracy: 0.0000e+00\n",
            "Epoch 3/10\n",
            "20/20 [==============================] - 0s 4ms/step - loss: 2.6267 - accuracy: 0.6726 - val_loss: 3.2733 - val_accuracy: 0.3284\n",
            "Epoch 4/10\n",
            "20/20 [==============================] - 0s 4ms/step - loss: 2.5062 - accuracy: 0.6693 - val_loss: 3.2064 - val_accuracy: 0.6194\n",
            "Epoch 5/10\n",
            "20/20 [==============================] - 0s 4ms/step - loss: 2.2561 - accuracy: 0.7255 - val_loss: 2.6609 - val_accuracy: 0.7724\n",
            "Epoch 6/10\n",
            "20/20 [==============================] - 0s 4ms/step - loss: 2.1213 - accuracy: 0.7352 - val_loss: 2.4457 - val_accuracy: 0.7687\n",
            "Epoch 7/10\n",
            "20/20 [==============================] - 0s 4ms/step - loss: 2.0907 - accuracy: 0.7191 - val_loss: 2.4481 - val_accuracy: 0.7537\n",
            "Epoch 8/10\n",
            "20/20 [==============================] - 0s 4ms/step - loss: 1.8178 - accuracy: 0.7191 - val_loss: 2.1745 - val_accuracy: 0.7500\n",
            "Epoch 9/10\n",
            "20/20 [==============================] - 0s 4ms/step - loss: 1.7198 - accuracy: 0.7223 - val_loss: 2.0157 - val_accuracy: 0.6866\n",
            "Epoch 10/10\n",
            "20/20 [==============================] - 0s 4ms/step - loss: 1.4985 - accuracy: 0.7544 - val_loss: 1.5834 - val_accuracy: 0.7351\n"
          ],
          "name": "stdout"
        },
        {
          "output_type": "execute_result",
          "data": {
            "text/plain": [
              "<tensorflow.python.keras.callbacks.History at 0x7fd993e7c4e0>"
            ]
          },
          "metadata": {
            "tags": []
          },
          "execution_count": 21
        }
      ]
    },
    {
      "cell_type": "markdown",
      "metadata": {
        "id": "cnu4-JXPUGZo",
        "colab_type": "text"
      },
      "source": [
        "## Buscando Randomização:\n",
        "\n",
        "O código abaixo tem como finalidade buscar randomizar a seleção das variáveis para buscar o melhor modelo preditivo possível. Lembrando que na hora de submeter a previsão, a acurácia não será a mesma."
      ]
    },
    {
      "cell_type": "code",
      "metadata": {
        "id": "OZHnFDzMU3uZ",
        "colab_type": "code",
        "colab": {
          "base_uri": "https://localhost:8080/",
          "height": 443
        },
        "outputId": "c3547ca5-d42d-40f7-83c4-7d47e833ac52"
      },
      "source": [
        "import random\n",
        "\n",
        "#Gerando um novo Dataset sem o PassengerId e a variável Survived:\n",
        "new_train = train.drop(['PassengerId', 'Survived'], axis = 1)\n",
        "y_train = train.Survived\n",
        "\n",
        "#Inicializando variáveis de controle:\n",
        "rep = 0\n",
        "rep_alg = 0\n",
        "melhor_acuracia = 0\n",
        "\n",
        "#Laço de Repetição envolvendo a seleção de variáveis:\n",
        "while rep < 20:\n",
        "  #Seleciona \"n\" variáveis aleatórias apra analisar:\n",
        "  n = random.randint(1, 12)\n",
        "  rand_train = new_train.sample(n=n, axis = 1)\n",
        "\n",
        "  #Laço de Repetição para os Algoritmos de ML:\n",
        "  for alg in MLA:\n",
        "    #Faz Cross Validation com o algoritmo e o dataset randomizado:\n",
        "    cv_resultados = cross_validate(alg, rand_train, y_train, cv=5, return_train_score=True)\n",
        "\n",
        "    #Seleciona a média da acuracia do modelo\n",
        "    acuracia_alg = cv_resultados['test_score'].mean()\n",
        "    rep_alg += 1\n",
        "\n",
        "    #Compara se a acuracia calculada é melhor apresentada:\n",
        "    if acuracia_alg > melhor_acuracia:\n",
        "      #Sobrescreve a melhor acuracia:\n",
        "      melhor_acuracia = acuracia_alg\n",
        "\n",
        "      #Imprime os melhores resultados até então:\n",
        "      print('-'*40)\n",
        "      print(alg.__class__.__name__, ':', rep, '-', rep_alg)\n",
        "      print(new_train.columns)\n",
        "      print(acuracia_alg)\n",
        "\n",
        "  rep += 1"
      ],
      "execution_count": 22,
      "outputs": [
        {
          "output_type": "stream",
          "text": [
            "----------------------------------------\n",
            "AdaBoostClassifier : 0 - 1\n",
            "Index(['Pclass', 'Sex', 'Age', 'Fare', 'Title', 'Embark', 'Sozinho', 'Mr',\n",
            "       'Miss', 'Mrs', 'Master', 'Raro', 'IntervaloIdade'],\n",
            "      dtype='object')\n",
            "0.8159688657334756\n",
            "----------------------------------------\n",
            "GradientBoostingClassifier : 0 - 2\n",
            "Index(['Pclass', 'Sex', 'Age', 'Fare', 'Title', 'Embark', 'Sozinho', 'Mr',\n",
            "       'Miss', 'Mrs', 'Master', 'Raro', 'IntervaloIdade'],\n",
            "      dtype='object')\n",
            "0.827185989580064\n",
            "----------------------------------------\n",
            "XGBClassifier : 0 - 9\n",
            "Index(['Pclass', 'Sex', 'Age', 'Fare', 'Title', 'Embark', 'Sozinho', 'Mr',\n",
            "       'Miss', 'Mrs', 'Master', 'Raro', 'IntervaloIdade'],\n",
            "      dtype='object')\n",
            "0.8338961772644531\n",
            "----------------------------------------\n",
            "GradientBoostingClassifier : 11 - 101\n",
            "Index(['Pclass', 'Sex', 'Age', 'Fare', 'Title', 'Embark', 'Sozinho', 'Mr',\n",
            "       'Miss', 'Mrs', 'Master', 'Raro', 'IntervaloIdade'],\n",
            "      dtype='object')\n",
            "0.8394953235829515\n"
          ],
          "name": "stdout"
        }
      ]
    },
    {
      "cell_type": "markdown",
      "metadata": {
        "id": "1Jtkdw_JywOB",
        "colab_type": "text"
      },
      "source": [
        "#Criando a Subscrição:\n",
        "\n",
        "Com as possíveis variáveis \"experimentadas\" é necessário submeter o modelo preditivo para o Kaggle e obter os possíveis resultados."
      ]
    },
    {
      "cell_type": "markdown",
      "metadata": {
        "id": "WP9ntK0_yIdr",
        "colab_type": "text"
      },
      "source": [
        "##Subscrição de Gradient Bossting Classifier:"
      ]
    },
    {
      "cell_type": "code",
      "metadata": {
        "id": "HaFlFbGSVf6l",
        "colab_type": "code",
        "colab": {}
      },
      "source": [
        "modelo = GradientBoostingClassifier()\n",
        "modelo.fit(X, y)\n",
        "\n",
        "y_pred = modelo.predict(X_test)\n",
        "\n",
        "sub = pd.Series(y_pred, index = test['PassengerId'], name= 'Survived')\n",
        "sub.to_csv(\"GradientBoostingClassifier.csv\", header=True)"
      ],
      "execution_count": 23,
      "outputs": []
    },
    {
      "cell_type": "code",
      "metadata": {
        "id": "Iiae44AHoeoy",
        "colab_type": "code",
        "colab": {}
      },
      "source": [
        "X = train[['Pclass', 'Sex', 'Age', 'Fare', 'Title', 'Embark', 'Sozinho', 'Mr',\n",
        "       'Miss', 'Mrs', 'Master', 'Raro']]\n",
        "y = train.Survived\n",
        "\n",
        "modelo = GradientBoostingClassifier()\n",
        "modelo.fit(X, y)\n",
        "y_pred = modelo.predict(test[['Pclass', 'Sex', 'Age', 'Fare', 'Title', 'Embark', 'Sozinho', 'Mr',\n",
        "       'Miss', 'Mrs', 'Master', 'Raro']])\n",
        "\n",
        "sub = pd.Series(y_pred, index = test['PassengerId'], name= 'Survived')\n",
        "sub.to_csv(\"GradientBC1.csv\", header=True)"
      ],
      "execution_count": 24,
      "outputs": []
    },
    {
      "cell_type": "markdown",
      "metadata": {
        "id": "Af4xFqnZyNGP",
        "colab_type": "text"
      },
      "source": [
        "##Subscrição de XGBClassifier:"
      ]
    },
    {
      "cell_type": "code",
      "metadata": {
        "id": "Rb-aESXkXoub",
        "colab_type": "code",
        "colab": {}
      },
      "source": [
        "modelo = XGBClassifier()\n",
        "modelo.fit(X, y)\n",
        "\n",
        "y_pred = modelo.predict(test[['Pclass', 'Sex', 'Age', 'Fare', 'Title', 'Embark', 'Sozinho', 'Mr',\n",
        "       'Miss', 'Mrs', 'Master', 'Raro']])\n",
        "\n",
        "sub = pd.Series(y_pred, index = test['PassengerId'], name= 'Survived')\n",
        "sub.to_csv(\"XGBClassifier.csv\", header=True)"
      ],
      "execution_count": 25,
      "outputs": []
    },
    {
      "cell_type": "markdown",
      "metadata": {
        "id": "GIBFNAPkf9sO",
        "colab_type": "text"
      },
      "source": [
        "## Subscrição de Decision Tree Classifier:"
      ]
    },
    {
      "cell_type": "code",
      "metadata": {
        "id": "vJBou96hf9zB",
        "colab_type": "code",
        "colab": {}
      },
      "source": [
        "X = train.drop(['PassengerId', 'Survived', 'Age', 'IntervaloIdade'], axis = 1)\n",
        "y = train.Survived\n",
        "modelo = DecisionTreeClassifier(min_samples_leaf=5, max_depth=3)\n",
        "modelo.fit(X, y)\n",
        "\n",
        "y_pred = modelo.predict(test.drop(['PassengerId', 'Age', 'IntervaloIdade'], axis=1))\n",
        "\n",
        "sub = pd.Series(y_pred, index = test['PassengerId'], name= 'Survived')\n",
        "sub.to_csv(\"DecisionTreeClassifier.csv\", header=True)"
      ],
      "execution_count": 26,
      "outputs": []
    },
    {
      "cell_type": "markdown",
      "metadata": {
        "id": "RXD_6dBc2k4J",
        "colab_type": "text"
      },
      "source": [
        "#Resultados no Kaggle:\n",
        "\n",
        "Como dito anteriormente, os modelos criados possuem acuracias diferentes na submissão quando comparados com a acuracia obtida no notebbok:\n",
        "\n",
        "![](https://github.com/GabrielTrentino/Competicoes/blob/master/img/0Titanic-ResultadosKaggle.png?raw=true)"
      ]
    }
  ]
}