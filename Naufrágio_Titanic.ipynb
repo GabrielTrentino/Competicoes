{
  "nbformat": 4,
  "nbformat_minor": 0,
  "metadata": {
    "colab": {
      "name": "Naufrágio Titanic.ipynb",
      "provenance": [],
      "toc_visible": true,
      "authorship_tag": "ABX9TyMVPgV9UYkJ2amBTXzztk/d",
      "include_colab_link": true
    },
    "kernelspec": {
      "name": "python3",
      "display_name": "Python 3"
    }
  },
  "cells": [
    {
      "cell_type": "markdown",
      "metadata": {
        "id": "view-in-github",
        "colab_type": "text"
      },
      "source": [
        "<a href=\"https://colab.research.google.com/github/GabrielTrentino/Competicoes/blob/master/Naufr%C3%A1gio_Titanic.ipynb\" target=\"_parent\"><img src=\"https://colab.research.google.com/assets/colab-badge.svg\" alt=\"Open In Colab\"/></a>"
      ]
    },
    {
      "cell_type": "markdown",
      "metadata": {
        "id": "5ZYy0wpj1F6P",
        "colab_type": "text"
      },
      "source": [
        "#Desafio Kaggle do Titanic:\n",
        "\n",
        "**O Desafio do Titanic** é uma das competições mais conhecidas no [Kaggle.com](https://www.kaggle.com/c/titanic) e, sem sombra de dúvidas, é uma das melhores primeiras experiências para \"mergulhar\" no mundo de *Machine Learning*.\n",
        "\n",
        "Com o objetivo único de **familiarizar os novos Cientistas de Dados com as estrutura e as dinâmicas do Kaggle**, O desafio do Titanic é o equivalente ao \"Olá Mundo!\" para os Cientistas de Dados.\n",
        "\n",
        "![](https://github.com/GabrielTrentino/Competicoes/blob/master/img/0Titanic.jpg?raw=true)\n",
        "\n",
        "Sem dúvidas, o naufrágio do Titanic é um dos incidentes mais conhecidos pelo mundo, foi digno do famoso filme de mesmo nome. O evento ocorreu no dia 15 de Abril de 1912 **resultando na morte de 1502 pessoas de 2224**(entre passageiros e tripulação). \n",
        "\n",
        "Enquanto houve algum elemento de sorte envolvida nessa chance de sobrevivência do naufragio, houve uma maior probabilidade de sobrevivência entre um grupo e outro. E nosso objetivo é investigar essas chances, proporções, probabilidades com os dados fornecidos pelo Kaggle!\n",
        "\n",
        "Essa competição, além da Análise Exploratória de Dados, também pede a elaboração de um **Modelo Preditivo** de *Machine Learning* **capaz de dizer se uma pessoa teria ou não chances de sobreviver.**"
      ]
    },
    {
      "cell_type": "markdown",
      "metadata": {
        "id": "ybm5-MtFtHKq",
        "colab_type": "text"
      },
      "source": [
        "##Importação das Bibliotecas Essenciais:\n",
        "\n",
        "Inicialmente, importaremos as bibliotecas essenciais para manipulação dos dados (como Pandas, Numpy) e outras focadas para criação de gráficos (Matplotlib.Pyplot e Seaborn)."
      ]
    },
    {
      "cell_type": "code",
      "metadata": {
        "id": "a3AxmT22mOtp",
        "colab_type": "code",
        "colab": {
          "base_uri": "https://localhost:8080/",
          "height": 72
        },
        "outputId": "b5476566-534d-43ed-9005-6b62e183f3e3"
      },
      "source": [
        "#Importando as bibliotecas necessárias:\n",
        "import pandas as pd\n",
        "import numpy as np\n",
        "\n",
        "import matplotlib.pyplot as plt\n",
        "import seaborn as sns"
      ],
      "execution_count": 1,
      "outputs": [
        {
          "output_type": "stream",
          "text": [
            "/usr/local/lib/python3.6/dist-packages/statsmodels/tools/_testing.py:19: FutureWarning: pandas.util.testing is deprecated. Use the functions in the public API at pandas.testing instead.\n",
            "  import pandas.util.testing as tm\n"
          ],
          "name": "stderr"
        }
      ]
    },
    {
      "cell_type": "markdown",
      "metadata": {
        "id": "T3ZMqBbuYaU3",
        "colab_type": "text"
      },
      "source": [
        "##Importação dos Arquivos disponibilizados no Kaggle:\n",
        "\n",
        "A Importação desses arquivos são feitos de forma simplificada através do seguinte [Tutorial em Inglês](https://medium.com/@opalkabert/downloading-kaggle-datasets-into-google-colab-fb9654c94235). O processo de Identificação de Upload do Token gerado pelo Kaggle é ocultado."
      ]
    },
    {
      "cell_type": "code",
      "metadata": {
        "id": "SQzqQ__ymYd6",
        "colab_type": "code",
        "colab": {}
      },
      "source": [
        "#Pedindo ao Pandas que leia os arquivos \".csv\" e transforme em DataFrame:\n",
        "train = pd.read_csv('train.csv')\n",
        "test = pd.read_csv('test.csv')\n",
        "submis = pd.read_csv('gender_submission.csv')"
      ],
      "execution_count": 0,
      "outputs": []
    },
    {
      "cell_type": "markdown",
      "metadata": {
        "id": "dqpUvFdcZdSq",
        "colab_type": "text"
      },
      "source": [
        "O arquivo `train.csv` contém as informações relativas ao treino do modelo (contendo a informação se a pessoa sobreviveu ou não). \n",
        "\n",
        "O arquivo `test.csv` contém as informações relativas ao teste do modelo, exceto as informações de sobrevivência."
      ]
    },
    {
      "cell_type": "markdown",
      "metadata": {
        "id": "E0js7BxXtvB7",
        "colab_type": "text"
      },
      "source": [
        "#Análise Exploratória:\n",
        "A Análise Exploratória é composta por técnicas simples que buscam extrair ou ilustrar as informações contidas nos dados, sem conter nenhuma alteração significativa. Com essa definição, utilizaremos da Visualização de Dados para aumentar a eficiência dessa exploração inicial.\n",
        "\n",
        "A idéia dessa Análise é trabalharmos ela como uma exploração de hipoteses ou duvidas que possamos ter sobre um Data Set e, por isso, nada melhor que utilizarmos perguntas para instigarmos ou elucidar o que queremos achar."
      ]
    },
    {
      "cell_type": "markdown",
      "metadata": {
        "id": "uFSC6vNLXzjb",
        "colab_type": "text"
      },
      "source": [
        "##Q1. Quais são as variáveis do DataSet?\n",
        "A primeira pergunta a se fazer é sobre quais são as variáveis iremos utilizar nos modelos, para entendermos melhor, utilizaremos a função `.head()` que nos mostrará as primeiras entradas do DataSet e cruzaremos as informações com o que é descrito no Kaggle para criarmos nosso **Dicionário de Variáveis**."
      ]
    },
    {
      "cell_type": "code",
      "metadata": {
        "id": "CXhVbH6etAxY",
        "colab_type": "code",
        "outputId": "bb89f5e2-4baf-4681-b402-99ad1fb229de",
        "colab": {
          "base_uri": "https://localhost:8080/",
          "height": 77
        }
      },
      "source": [
        "train.head(1)"
      ],
      "execution_count": 3,
      "outputs": [
        {
          "output_type": "execute_result",
          "data": {
            "text/html": [
              "<div>\n",
              "<style scoped>\n",
              "    .dataframe tbody tr th:only-of-type {\n",
              "        vertical-align: middle;\n",
              "    }\n",
              "\n",
              "    .dataframe tbody tr th {\n",
              "        vertical-align: top;\n",
              "    }\n",
              "\n",
              "    .dataframe thead th {\n",
              "        text-align: right;\n",
              "    }\n",
              "</style>\n",
              "<table border=\"1\" class=\"dataframe\">\n",
              "  <thead>\n",
              "    <tr style=\"text-align: right;\">\n",
              "      <th></th>\n",
              "      <th>PassengerId</th>\n",
              "      <th>Survived</th>\n",
              "      <th>Pclass</th>\n",
              "      <th>Name</th>\n",
              "      <th>Sex</th>\n",
              "      <th>Age</th>\n",
              "      <th>SibSp</th>\n",
              "      <th>Parch</th>\n",
              "      <th>Ticket</th>\n",
              "      <th>Fare</th>\n",
              "      <th>Cabin</th>\n",
              "      <th>Embarked</th>\n",
              "    </tr>\n",
              "  </thead>\n",
              "  <tbody>\n",
              "    <tr>\n",
              "      <th>0</th>\n",
              "      <td>1</td>\n",
              "      <td>0</td>\n",
              "      <td>3</td>\n",
              "      <td>Braund, Mr. Owen Harris</td>\n",
              "      <td>male</td>\n",
              "      <td>22.0</td>\n",
              "      <td>1</td>\n",
              "      <td>0</td>\n",
              "      <td>A/5 21171</td>\n",
              "      <td>7.25</td>\n",
              "      <td>NaN</td>\n",
              "      <td>S</td>\n",
              "    </tr>\n",
              "  </tbody>\n",
              "</table>\n",
              "</div>"
            ],
            "text/plain": [
              "   PassengerId  Survived  Pclass  ...  Fare Cabin  Embarked\n",
              "0            1         0       3  ...  7.25   NaN         S\n",
              "\n",
              "[1 rows x 12 columns]"
            ]
          },
          "metadata": {
            "tags": []
          },
          "execution_count": 3
        }
      ]
    },
    {
      "cell_type": "code",
      "metadata": {
        "id": "h5MxUOzytOyG",
        "colab_type": "code",
        "outputId": "da2c889c-384b-4272-8b3a-116ebb37ea82",
        "colab": {
          "base_uri": "https://localhost:8080/",
          "height": 77
        }
      },
      "source": [
        "test.head(1)"
      ],
      "execution_count": 4,
      "outputs": [
        {
          "output_type": "execute_result",
          "data": {
            "text/html": [
              "<div>\n",
              "<style scoped>\n",
              "    .dataframe tbody tr th:only-of-type {\n",
              "        vertical-align: middle;\n",
              "    }\n",
              "\n",
              "    .dataframe tbody tr th {\n",
              "        vertical-align: top;\n",
              "    }\n",
              "\n",
              "    .dataframe thead th {\n",
              "        text-align: right;\n",
              "    }\n",
              "</style>\n",
              "<table border=\"1\" class=\"dataframe\">\n",
              "  <thead>\n",
              "    <tr style=\"text-align: right;\">\n",
              "      <th></th>\n",
              "      <th>PassengerId</th>\n",
              "      <th>Pclass</th>\n",
              "      <th>Name</th>\n",
              "      <th>Sex</th>\n",
              "      <th>Age</th>\n",
              "      <th>SibSp</th>\n",
              "      <th>Parch</th>\n",
              "      <th>Ticket</th>\n",
              "      <th>Fare</th>\n",
              "      <th>Cabin</th>\n",
              "      <th>Embarked</th>\n",
              "    </tr>\n",
              "  </thead>\n",
              "  <tbody>\n",
              "    <tr>\n",
              "      <th>0</th>\n",
              "      <td>892</td>\n",
              "      <td>3</td>\n",
              "      <td>Kelly, Mr. James</td>\n",
              "      <td>male</td>\n",
              "      <td>34.5</td>\n",
              "      <td>0</td>\n",
              "      <td>0</td>\n",
              "      <td>330911</td>\n",
              "      <td>7.8292</td>\n",
              "      <td>NaN</td>\n",
              "      <td>Q</td>\n",
              "    </tr>\n",
              "  </tbody>\n",
              "</table>\n",
              "</div>"
            ],
            "text/plain": [
              "   PassengerId  Pclass              Name   Sex  ...  Ticket    Fare  Cabin Embarked\n",
              "0          892       3  Kelly, Mr. James  male  ...  330911  7.8292    NaN        Q\n",
              "\n",
              "[1 rows x 11 columns]"
            ]
          },
          "metadata": {
            "tags": []
          },
          "execution_count": 4
        }
      ]
    },
    {
      "cell_type": "markdown",
      "metadata": {
        "id": "FRIUb82WtFGg",
        "colab_type": "text"
      },
      "source": [
        "Aqui estará o Dicionário explicando cada variável:\n",
        "\n",
        "*  `PassengerId`- \n",
        "*  `Survived`- \n",
        "*  `Pclass` - \n",
        "*  `Name` - \n",
        "*  `Sex` - \n",
        "*  `Age` - \n",
        "*  `SibSp` -  \n",
        "*  `Parch` - \n",
        "*  `Ticket` - \n",
        "*  `Fare` - \n",
        "*  `Cabin` - \n",
        "*  `Embarked` - "
      ]
    },
    {
      "cell_type": "markdown",
      "metadata": {
        "id": "x97JoQEatJ1a",
        "colab_type": "text"
      },
      "source": [
        "##Q2. Quais são as dimensões do Data Frame de Treino e Teste?\n",
        "\n",
        "Um dos passos principais da Análise Exploratória é entender as dimensões desses Data Frames, pois assim, conseguiremos ter uma noção de quantos dados estamos analisando e manipulando."
      ]
    },
    {
      "cell_type": "code",
      "metadata": {
        "colab_type": "code",
        "outputId": "6ada587d-6a1b-4683-f547-6ac192953b05",
        "id": "CSR7Z3JxsXPF",
        "colab": {
          "base_uri": "https://localhost:8080/",
          "height": 52
        }
      },
      "source": [
        "#Imprimindo a quantidade de linhas e colunas dos Data Frames:\n",
        "print(\"O Data Frame de Treino tem: {} linhas e {} colunas\".format(train.shape[0], train.shape[1]))\n",
        "print(\"O Data Frame de Teste tem: {} linhas e {} colunas\".format(test.shape[0], test.shape[1]))"
      ],
      "execution_count": 5,
      "outputs": [
        {
          "output_type": "stream",
          "text": [
            "O Data Frame de Treino tem: 891 linhas e 12 colunas\n",
            "O Data Frame de Teste tem: 418 linhas e 11 colunas\n"
          ],
          "name": "stdout"
        }
      ]
    },
    {
      "cell_type": "markdown",
      "metadata": {
        "id": "OtOMouaGtrNs",
        "colab_type": "text"
      },
      "source": [
        "##Q3. Qual a Porcentagem de Instâncias (Linhas) do Data Frame de Treino sobre o Total?"
      ]
    },
    {
      "cell_type": "code",
      "metadata": {
        "id": "4vYDz-iksX2x",
        "colab_type": "code",
        "outputId": "634f2f73-7a2f-4610-ef25-6a5701926bec",
        "colab": {
          "base_uri": "https://localhost:8080/",
          "height": 34
        }
      },
      "source": [
        "#Imprimindo a % de dados de treino sobre o total:\n",
        "print(\"Temos {:.3f}% dos dados estão como treino\".format(train.shape[0]/(train.shape[0]+test.shape[0])*100))"
      ],
      "execution_count": 6,
      "outputs": [
        {
          "output_type": "stream",
          "text": [
            "Temos 68.067% dos dados estão como treino\n"
          ],
          "name": "stdout"
        }
      ]
    },
    {
      "cell_type": "markdown",
      "metadata": {
        "id": "4XDZ3wvtbBO0",
        "colab_type": "text"
      },
      "source": [
        "##Q4. Qual a quantidade de dados nulos existentes (NaN)?\n",
        "Uma das preocupações que devemos ter logo na Análise Exploratória é de sabermos a quantidade de dados nulos existentes no Data Frame, pois haverá alguns modelos que não conseguirão trabalhar com esses tipos de dados e, para isso, deveremos contornar de alguma forma. Usamos as funções `.isnull().sum()` que irão verificar se a entrada possui valor nulo e, em seguida, somar (`.sum()`) a quantidade de valores verdadeiros (que são representados por `True` ou `1`)."
      ]
    },
    {
      "cell_type": "code",
      "metadata": {
        "id": "dQM87dGcslKq",
        "colab_type": "code",
        "outputId": "3b51655a-e488-4304-a88d-dd4f92fdc8db",
        "colab": {
          "base_uri": "https://localhost:8080/",
          "height": 247
        }
      },
      "source": [
        "#Quantos dados nulos estão presentes nesse Data Frame por coluna:\n",
        "train.isnull().sum().sort_values(ascending=False)"
      ],
      "execution_count": 7,
      "outputs": [
        {
          "output_type": "execute_result",
          "data": {
            "text/plain": [
              "Cabin          687\n",
              "Age            177\n",
              "Embarked         2\n",
              "Fare             0\n",
              "Ticket           0\n",
              "Parch            0\n",
              "SibSp            0\n",
              "Sex              0\n",
              "Name             0\n",
              "Pclass           0\n",
              "Survived         0\n",
              "PassengerId      0\n",
              "dtype: int64"
            ]
          },
          "metadata": {
            "tags": []
          },
          "execution_count": 7
        }
      ]
    },
    {
      "cell_type": "markdown",
      "metadata": {
        "id": "-xWCF5FQbjsw",
        "colab_type": "text"
      },
      "source": [
        "##Q5. Quais são os tipos de dados das nossas colunas?\n",
        "Outra preocupação que deve ser investigada logo no começo, pois podemos achar que estamos manipulando valores númericos como `int64` ou `float64`, mas na verdade estaríamos trabalhando com `strings` que são acusados como `object`.\n",
        "\n",
        "Para isso, utilizamos o atributo `.dtypes`."
      ]
    },
    {
      "cell_type": "code",
      "metadata": {
        "id": "JiTLuM3NsmS2",
        "colab_type": "code",
        "outputId": "9ad45c63-84bc-4249-dc4a-432ea02d3ddd",
        "colab": {
          "base_uri": "https://localhost:8080/",
          "height": 247
        }
      },
      "source": [
        "#Verificando os tipos das variáveis:\n",
        "train.dtypes"
      ],
      "execution_count": 8,
      "outputs": [
        {
          "output_type": "execute_result",
          "data": {
            "text/plain": [
              "PassengerId      int64\n",
              "Survived         int64\n",
              "Pclass           int64\n",
              "Name            object\n",
              "Sex             object\n",
              "Age            float64\n",
              "SibSp            int64\n",
              "Parch            int64\n",
              "Ticket          object\n",
              "Fare           float64\n",
              "Cabin           object\n",
              "Embarked        object\n",
              "dtype: object"
            ]
          },
          "metadata": {
            "tags": []
          },
          "execution_count": 8
        }
      ]
    },
    {
      "cell_type": "markdown",
      "metadata": {
        "id": "OBpbhc7cc8VM",
        "colab_type": "text"
      },
      "source": [
        "##Q6. Quais são as Descrições Estatísticas?"
      ]
    },
    {
      "cell_type": "code",
      "metadata": {
        "id": "AyNbkBocs-pK",
        "colab_type": "code",
        "outputId": "5d5ba391-f909-488f-85c3-1329816f18dd",
        "colab": {
          "base_uri": "https://localhost:8080/",
          "height": 287
        }
      },
      "source": [
        "#Informações Estatísticas Descritivas.\n",
        "train.describe().round(2)"
      ],
      "execution_count": 9,
      "outputs": [
        {
          "output_type": "execute_result",
          "data": {
            "text/html": [
              "<div>\n",
              "<style scoped>\n",
              "    .dataframe tbody tr th:only-of-type {\n",
              "        vertical-align: middle;\n",
              "    }\n",
              "\n",
              "    .dataframe tbody tr th {\n",
              "        vertical-align: top;\n",
              "    }\n",
              "\n",
              "    .dataframe thead th {\n",
              "        text-align: right;\n",
              "    }\n",
              "</style>\n",
              "<table border=\"1\" class=\"dataframe\">\n",
              "  <thead>\n",
              "    <tr style=\"text-align: right;\">\n",
              "      <th></th>\n",
              "      <th>PassengerId</th>\n",
              "      <th>Survived</th>\n",
              "      <th>Pclass</th>\n",
              "      <th>Age</th>\n",
              "      <th>SibSp</th>\n",
              "      <th>Parch</th>\n",
              "      <th>Fare</th>\n",
              "    </tr>\n",
              "  </thead>\n",
              "  <tbody>\n",
              "    <tr>\n",
              "      <th>count</th>\n",
              "      <td>891.00</td>\n",
              "      <td>891.00</td>\n",
              "      <td>891.00</td>\n",
              "      <td>714.00</td>\n",
              "      <td>891.00</td>\n",
              "      <td>891.00</td>\n",
              "      <td>891.00</td>\n",
              "    </tr>\n",
              "    <tr>\n",
              "      <th>mean</th>\n",
              "      <td>446.00</td>\n",
              "      <td>0.38</td>\n",
              "      <td>2.31</td>\n",
              "      <td>29.70</td>\n",
              "      <td>0.52</td>\n",
              "      <td>0.38</td>\n",
              "      <td>32.20</td>\n",
              "    </tr>\n",
              "    <tr>\n",
              "      <th>std</th>\n",
              "      <td>257.35</td>\n",
              "      <td>0.49</td>\n",
              "      <td>0.84</td>\n",
              "      <td>14.53</td>\n",
              "      <td>1.10</td>\n",
              "      <td>0.81</td>\n",
              "      <td>49.69</td>\n",
              "    </tr>\n",
              "    <tr>\n",
              "      <th>min</th>\n",
              "      <td>1.00</td>\n",
              "      <td>0.00</td>\n",
              "      <td>1.00</td>\n",
              "      <td>0.42</td>\n",
              "      <td>0.00</td>\n",
              "      <td>0.00</td>\n",
              "      <td>0.00</td>\n",
              "    </tr>\n",
              "    <tr>\n",
              "      <th>25%</th>\n",
              "      <td>223.50</td>\n",
              "      <td>0.00</td>\n",
              "      <td>2.00</td>\n",
              "      <td>20.12</td>\n",
              "      <td>0.00</td>\n",
              "      <td>0.00</td>\n",
              "      <td>7.91</td>\n",
              "    </tr>\n",
              "    <tr>\n",
              "      <th>50%</th>\n",
              "      <td>446.00</td>\n",
              "      <td>0.00</td>\n",
              "      <td>3.00</td>\n",
              "      <td>28.00</td>\n",
              "      <td>0.00</td>\n",
              "      <td>0.00</td>\n",
              "      <td>14.45</td>\n",
              "    </tr>\n",
              "    <tr>\n",
              "      <th>75%</th>\n",
              "      <td>668.50</td>\n",
              "      <td>1.00</td>\n",
              "      <td>3.00</td>\n",
              "      <td>38.00</td>\n",
              "      <td>1.00</td>\n",
              "      <td>0.00</td>\n",
              "      <td>31.00</td>\n",
              "    </tr>\n",
              "    <tr>\n",
              "      <th>max</th>\n",
              "      <td>891.00</td>\n",
              "      <td>1.00</td>\n",
              "      <td>3.00</td>\n",
              "      <td>80.00</td>\n",
              "      <td>8.00</td>\n",
              "      <td>6.00</td>\n",
              "      <td>512.33</td>\n",
              "    </tr>\n",
              "  </tbody>\n",
              "</table>\n",
              "</div>"
            ],
            "text/plain": [
              "       PassengerId  Survived  Pclass     Age   SibSp   Parch    Fare\n",
              "count       891.00    891.00  891.00  714.00  891.00  891.00  891.00\n",
              "mean        446.00      0.38    2.31   29.70    0.52    0.38   32.20\n",
              "std         257.35      0.49    0.84   14.53    1.10    0.81   49.69\n",
              "min           1.00      0.00    1.00    0.42    0.00    0.00    0.00\n",
              "25%         223.50      0.00    2.00   20.12    0.00    0.00    7.91\n",
              "50%         446.00      0.00    3.00   28.00    0.00    0.00   14.45\n",
              "75%         668.50      1.00    3.00   38.00    1.00    0.00   31.00\n",
              "max         891.00      1.00    3.00   80.00    8.00    6.00  512.33"
            ]
          },
          "metadata": {
            "tags": []
          },
          "execution_count": 9
        }
      ]
    },
    {
      "cell_type": "markdown",
      "metadata": {
        "id": "8AzJ_ws0eCQQ",
        "colab_type": "text"
      },
      "source": [
        "Aqui terão gráficos:"
      ]
    },
    {
      "cell_type": "markdown",
      "metadata": {
        "id": "uv2Xih_Vu0P2",
        "colab_type": "text"
      },
      "source": [
        "#Primeiras Correções:"
      ]
    },
    {
      "cell_type": "code",
      "metadata": {
        "id": "Rs305iDMu4Pr",
        "colab_type": "code",
        "colab": {}
      },
      "source": [
        "train[\"Sex_bin\"] = train['Sex'].map(lambda x: 0 if x == 'female' else 1)\n",
        "test[\"Sex_bin\"] = test['Sex'].map(lambda x: 0 if x == 'female' else 1)"
      ],
      "execution_count": 0,
      "outputs": []
    },
    {
      "cell_type": "markdown",
      "metadata": {
        "id": "fWPKx7DIu18p",
        "colab_type": "text"
      },
      "source": [
        "#Modelo de Machine Learning:"
      ]
    },
    {
      "cell_type": "code",
      "metadata": {
        "id": "4KE3C31Nvfn_",
        "colab_type": "code",
        "outputId": "d5942a16-7beb-41bf-9165-85bd274378ed",
        "colab": {
          "base_uri": "https://localhost:8080/",
          "height": 105
        }
      },
      "source": [
        "X_train = train[['Sex_bin', 'Age']]\n",
        "X_train.fillna(-1, inplace = True)\n",
        "y_train = train.Survived\n",
        "\n",
        "X_test = test[['Sex_bin', 'Age']]\n",
        "X_test.fillna(-1, inplace = True)\n",
        "y_test = test"
      ],
      "execution_count": 11,
      "outputs": [
        {
          "output_type": "stream",
          "text": [
            "/usr/local/lib/python3.6/dist-packages/pandas/core/frame.py:4153: SettingWithCopyWarning: \n",
            "A value is trying to be set on a copy of a slice from a DataFrame\n",
            "\n",
            "See the caveats in the documentation: https://pandas.pydata.org/pandas-docs/stable/user_guide/indexing.html#returning-a-view-versus-a-copy\n",
            "  downcast=downcast,\n"
          ],
          "name": "stderr"
        }
      ]
    },
    {
      "cell_type": "code",
      "metadata": {
        "id": "f6qia7Cbt44M",
        "colab_type": "code",
        "outputId": "f528bcbf-393a-41ad-b602-2bfa181409f1",
        "colab": {
          "base_uri": "https://localhost:8080/",
          "height": 158
        }
      },
      "source": [
        "from sklearn.ensemble import RandomForestClassifier\n",
        "modelo = RandomForestClassifier(n_estimators=100, n_jobs=1, random_state=0)\n",
        "modelo.fit(X_train, y_train)"
      ],
      "execution_count": 12,
      "outputs": [
        {
          "output_type": "execute_result",
          "data": {
            "text/plain": [
              "RandomForestClassifier(bootstrap=True, ccp_alpha=0.0, class_weight=None,\n",
              "                       criterion='gini', max_depth=None, max_features='auto',\n",
              "                       max_leaf_nodes=None, max_samples=None,\n",
              "                       min_impurity_decrease=0.0, min_impurity_split=None,\n",
              "                       min_samples_leaf=1, min_samples_split=2,\n",
              "                       min_weight_fraction_leaf=0.0, n_estimators=100, n_jobs=1,\n",
              "                       oob_score=False, random_state=0, verbose=0,\n",
              "                       warm_start=False)"
            ]
          },
          "metadata": {
            "tags": []
          },
          "execution_count": 12
        }
      ]
    },
    {
      "cell_type": "code",
      "metadata": {
        "id": "qPzfEerZyES-",
        "colab_type": "code",
        "colab": {}
      },
      "source": [
        "y_pred = modelo.predict(X_test)"
      ],
      "execution_count": 0,
      "outputs": []
    },
    {
      "cell_type": "markdown",
      "metadata": {
        "id": "1Jtkdw_JywOB",
        "colab_type": "text"
      },
      "source": [
        "#Criando a Subscrição:"
      ]
    },
    {
      "cell_type": "code",
      "metadata": {
        "id": "7SSMsIGQyzBi",
        "colab_type": "code",
        "outputId": "5b4286bd-2a4e-4126-9de9-ee108b8df9d2",
        "colab": {
          "base_uri": "https://localhost:8080/",
          "height": 194
        }
      },
      "source": [
        "sub = pd.Series(y_pred, index = test['PassengerId'], name= 'Survived')\n",
        "sub.to_csv(\"primeiro_modelo.csv\", header=True)\n",
        "!head -n10 primeiro_modelo.csv"
      ],
      "execution_count": 14,
      "outputs": [
        {
          "output_type": "stream",
          "text": [
            "PassengerId,Survived\n",
            "892,0\n",
            "893,1\n",
            "894,0\n",
            "895,1\n",
            "896,1\n",
            "897,0\n",
            "898,1\n",
            "899,0\n",
            "900,1\n"
          ],
          "name": "stdout"
        }
      ]
    }
  ]
}