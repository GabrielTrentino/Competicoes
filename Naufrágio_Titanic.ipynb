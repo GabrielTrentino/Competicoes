{
  "nbformat": 4,
  "nbformat_minor": 0,
  "metadata": {
    "colab": {
      "name": "Naufrágio Titanic.ipynb",
      "provenance": [],
      "authorship_tag": "ABX9TyONHw2A+s0Dr88z+BvBaSov",
      "include_colab_link": true
    },
    "kernelspec": {
      "name": "python3",
      "display_name": "Python 3"
    }
  },
  "cells": [
    {
      "cell_type": "markdown",
      "metadata": {
        "id": "view-in-github",
        "colab_type": "text"
      },
      "source": [
        "<a href=\"https://colab.research.google.com/github/GabrielTrentino/Competicoes/blob/master/Naufr%C3%A1gio_Titanic.ipynb\" target=\"_parent\"><img src=\"https://colab.research.google.com/assets/colab-badge.svg\" alt=\"Open In Colab\"/></a>"
      ]
    },
    {
      "cell_type": "markdown",
      "metadata": {
        "id": "5ZYy0wpj1F6P",
        "colab_type": "text"
      },
      "source": [
        "#Desafio Kaggle do Titanic:\n",
        "\n",
        "**O Desafio do Titanic** é uma das competições mais conhecidas no [Kaggle.com](https://www.kaggle.com/c/titanic) e, sem sombra de dúvidas, é uma das melhores primeiras experiências para \"mergulhar\" no mundo de *Machine Learning*.\n",
        "\n",
        "Com o objetivo único de **familiarizar os novos Cientistas de Dados com as estrutura e as dinâmicas do Kaggle**, O desafio do Titanic é o equivalente ao \"Olá Mundo!\" para os Cientistas de Dados.\n",
        "\n",
        "![](https://github.com/GabrielTrentino/Competicoes/blob/master/img/0Titanic.jpg?raw=true)\n",
        "\n",
        "Sem dúvidas, o naufrágio do Titanic é um dos incidentes mais conhecidos pelo mundo, foi digno do famoso filme de mesmo nome. O evento ocorreu no dia 15 de Abril de 1912 **resultando na morte de 1502 pessoas de 2224**(entre passageiros e tripulação). \n",
        "\n",
        "Enquanto houve algum elemento de sorte envolvida nessa chance de sobrevivência do naufragio, houve uma maior probabilidade de sobrevivência entre um grupo e outro. E nosso objetivo é investigar essas chances, proporções, probabilidades com os dados fornecidos pelo Kaggle!\n",
        "\n",
        "Essa competição, além da Análise Exploratória de Dados, também pede a elaboração de um **Modelo Preditivo** de *Machine Learning* **capaz de dizer se uma pessoa teria ou não chances de sobreviver.**"
      ]
    },
    {
      "cell_type": "markdown",
      "metadata": {
        "id": "ybm5-MtFtHKq",
        "colab_type": "text"
      },
      "source": [
        "##Importação das Bibliotecas Essenciais:\n",
        "\n",
        "Inicialmente, importaremos as bibliotecas essenciais para manipulação dos dados (como Pandas, Numpy) e outras focadas para criação de gráficos (Matplotlib.Pyplot e Seaborn)."
      ]
    },
    {
      "cell_type": "code",
      "metadata": {
        "id": "a3AxmT22mOtp",
        "colab_type": "code",
        "colab": {}
      },
      "source": [
        "#Importando as bibliotecas necessárias:\n",
        "import pandas as pd\n",
        "import numpy as np\n",
        "\n",
        "import matplotlib.pyplot as plt\n",
        "import seaborn as sns"
      ],
      "execution_count": 59,
      "outputs": []
    },
    {
      "cell_type": "markdown",
      "metadata": {
        "id": "T3ZMqBbuYaU3",
        "colab_type": "text"
      },
      "source": [
        "##Importação dos Arquivos disponibilizados no Kaggle:\n",
        "\n",
        "A Importação desses arquivos são feitos de forma simplificada através do seguinte [Tutorial em Inglês](https://medium.com/@opalkabert/downloading-kaggle-datasets-into-google-colab-fb9654c94235). O processo de Identificação de Upload do Token gerado pelo Kaggle é ocultado."
      ]
    },
    {
      "cell_type": "code",
      "metadata": {
        "id": "SQzqQ__ymYd6",
        "colab_type": "code",
        "colab": {}
      },
      "source": [
        "#Pedindo ao Pandas que leia os arquivos \".csv\" e transforme em DataFrame:\n",
        "train = pd.read_csv('train.csv')\n",
        "test = pd.read_csv('test.csv')\n",
        "submis = pd.read_csv('gender_submission.csv')"
      ],
      "execution_count": 60,
      "outputs": []
    },
    {
      "cell_type": "markdown",
      "metadata": {
        "id": "dqpUvFdcZdSq",
        "colab_type": "text"
      },
      "source": [
        "O arquivo `train.csv` contém as informações relativas ao treino do modelo (contendo a informação se a pessoa sobreviveu ou não). \n",
        "\n",
        "O arquivo `test.csv` contém as informações relativas ao teste do modelo, exceto as informações de sobrevivência."
      ]
    },
    {
      "cell_type": "markdown",
      "metadata": {
        "id": "E0js7BxXtvB7",
        "colab_type": "text"
      },
      "source": [
        "#Análise Exploratória:\n",
        "A Análise Exploratória é composta por técnicas simples que buscam extrair ou ilustrar as informações contidas nos dados, sem conter nenhuma alteração significativa. Com essa definição, utilizaremos da Visualização de Dados para aumentar a eficiência dessa exploração inicial.\n",
        "\n",
        "A idéia dessa Análise é trabalharmos ela como uma exploração de hipoteses ou duvidas que possamos ter sobre um Data Set e, por isso, nada melhor que utilizarmos perguntas para instigarmos ou elucidar o que queremos achar."
      ]
    },
    {
      "cell_type": "markdown",
      "metadata": {
        "id": "uFSC6vNLXzjb",
        "colab_type": "text"
      },
      "source": [
        "##Q1. Quais são as variáveis do DataSet?\n",
        "A primeira pergunta a se fazer é sobre quais são as variáveis iremos utilizar nos modelos, para entendermos melhor, utilizaremos a função `.head()` que nos mostrará as primeiras entradas do DataSet e cruzaremos as informações com o que é descrito no Kaggle para criarmos nosso **Dicionário de Variáveis**."
      ]
    },
    {
      "cell_type": "code",
      "metadata": {
        "id": "CXhVbH6etAxY",
        "colab_type": "code",
        "colab": {
          "base_uri": "https://localhost:8080/",
          "height": 77
        },
        "outputId": "5f77704a-21fd-4580-c852-beb05b6faeac"
      },
      "source": [
        "train.head(1)"
      ],
      "execution_count": 61,
      "outputs": [
        {
          "output_type": "execute_result",
          "data": {
            "text/html": [
              "<div>\n",
              "<style scoped>\n",
              "    .dataframe tbody tr th:only-of-type {\n",
              "        vertical-align: middle;\n",
              "    }\n",
              "\n",
              "    .dataframe tbody tr th {\n",
              "        vertical-align: top;\n",
              "    }\n",
              "\n",
              "    .dataframe thead th {\n",
              "        text-align: right;\n",
              "    }\n",
              "</style>\n",
              "<table border=\"1\" class=\"dataframe\">\n",
              "  <thead>\n",
              "    <tr style=\"text-align: right;\">\n",
              "      <th></th>\n",
              "      <th>PassengerId</th>\n",
              "      <th>Survived</th>\n",
              "      <th>Pclass</th>\n",
              "      <th>Name</th>\n",
              "      <th>Sex</th>\n",
              "      <th>Age</th>\n",
              "      <th>SibSp</th>\n",
              "      <th>Parch</th>\n",
              "      <th>Ticket</th>\n",
              "      <th>Fare</th>\n",
              "      <th>Cabin</th>\n",
              "      <th>Embarked</th>\n",
              "    </tr>\n",
              "  </thead>\n",
              "  <tbody>\n",
              "    <tr>\n",
              "      <th>0</th>\n",
              "      <td>1</td>\n",
              "      <td>0</td>\n",
              "      <td>3</td>\n",
              "      <td>Braund, Mr. Owen Harris</td>\n",
              "      <td>male</td>\n",
              "      <td>22.0</td>\n",
              "      <td>1</td>\n",
              "      <td>0</td>\n",
              "      <td>A/5 21171</td>\n",
              "      <td>7.25</td>\n",
              "      <td>NaN</td>\n",
              "      <td>S</td>\n",
              "    </tr>\n",
              "  </tbody>\n",
              "</table>\n",
              "</div>"
            ],
            "text/plain": [
              "   PassengerId  Survived  Pclass  ...  Fare Cabin  Embarked\n",
              "0            1         0       3  ...  7.25   NaN         S\n",
              "\n",
              "[1 rows x 12 columns]"
            ]
          },
          "metadata": {
            "tags": []
          },
          "execution_count": 61
        }
      ]
    },
    {
      "cell_type": "code",
      "metadata": {
        "id": "h5MxUOzytOyG",
        "colab_type": "code",
        "colab": {
          "base_uri": "https://localhost:8080/",
          "height": 77
        },
        "outputId": "ace60021-dff8-4b02-ca88-79a3104dfe86"
      },
      "source": [
        "test.head(1)"
      ],
      "execution_count": 62,
      "outputs": [
        {
          "output_type": "execute_result",
          "data": {
            "text/html": [
              "<div>\n",
              "<style scoped>\n",
              "    .dataframe tbody tr th:only-of-type {\n",
              "        vertical-align: middle;\n",
              "    }\n",
              "\n",
              "    .dataframe tbody tr th {\n",
              "        vertical-align: top;\n",
              "    }\n",
              "\n",
              "    .dataframe thead th {\n",
              "        text-align: right;\n",
              "    }\n",
              "</style>\n",
              "<table border=\"1\" class=\"dataframe\">\n",
              "  <thead>\n",
              "    <tr style=\"text-align: right;\">\n",
              "      <th></th>\n",
              "      <th>PassengerId</th>\n",
              "      <th>Pclass</th>\n",
              "      <th>Name</th>\n",
              "      <th>Sex</th>\n",
              "      <th>Age</th>\n",
              "      <th>SibSp</th>\n",
              "      <th>Parch</th>\n",
              "      <th>Ticket</th>\n",
              "      <th>Fare</th>\n",
              "      <th>Cabin</th>\n",
              "      <th>Embarked</th>\n",
              "    </tr>\n",
              "  </thead>\n",
              "  <tbody>\n",
              "    <tr>\n",
              "      <th>0</th>\n",
              "      <td>892</td>\n",
              "      <td>3</td>\n",
              "      <td>Kelly, Mr. James</td>\n",
              "      <td>male</td>\n",
              "      <td>34.5</td>\n",
              "      <td>0</td>\n",
              "      <td>0</td>\n",
              "      <td>330911</td>\n",
              "      <td>7.8292</td>\n",
              "      <td>NaN</td>\n",
              "      <td>Q</td>\n",
              "    </tr>\n",
              "  </tbody>\n",
              "</table>\n",
              "</div>"
            ],
            "text/plain": [
              "   PassengerId  Pclass              Name   Sex  ...  Ticket    Fare  Cabin Embarked\n",
              "0          892       3  Kelly, Mr. James  male  ...  330911  7.8292    NaN        Q\n",
              "\n",
              "[1 rows x 11 columns]"
            ]
          },
          "metadata": {
            "tags": []
          },
          "execution_count": 62
        }
      ]
    },
    {
      "cell_type": "markdown",
      "metadata": {
        "id": "FRIUb82WtFGg",
        "colab_type": "text"
      },
      "source": [
        "Para que possamos entender qual é o significado de cada variável presente no Datasets, é feito aqui, um dicionário explicando essas variáveis:\n",
        "\n",
        "*  `PassengerId`- Identificação do Passageiro, no dataset de treino varia de 1 a 891 e no dataset de teste varia de 892 a 1309.\n",
        "*  `Survived`- Se o passageiro sobreviveu ou não.\n",
        "*  `Pclass` - Classe do Ticket.\n",
        "*  `Name` - Nome do Passageiro.\n",
        "*  `Sex` - Sexo da pessoa.\n",
        "*  `Age` - Idade.\n",
        "*  `SibSp` -  Número de irmãos presentes no navio.\n",
        "*  `Parch` - Número de parentes presentes no navio.\n",
        "*  `Ticket` - Número do Ticket.\n",
        "*  `Fare` - Tarifa do Passageiro.\n",
        "*  `Cabin` - Número da Cabine\n",
        "*  `Embarked` - Porto de Embarque: C = Cherboug, Q = Queentown, S = Southampton"
      ]
    },
    {
      "cell_type": "markdown",
      "metadata": {
        "id": "x97JoQEatJ1a",
        "colab_type": "text"
      },
      "source": [
        "##Q2. Quais são as dimensões do Data Frame de Treino e Teste?\n",
        "\n",
        "Um dos passos principais da Análise Exploratória é entender as dimensões desses Data Frames, pois assim, conseguiremos ter uma noção de quantos dados estamos analisando e manipulando."
      ]
    },
    {
      "cell_type": "code",
      "metadata": {
        "colab_type": "code",
        "id": "CSR7Z3JxsXPF",
        "colab": {
          "base_uri": "https://localhost:8080/",
          "height": 52
        },
        "outputId": "0b8e2caf-e56b-4e65-999b-c9ef32386e08"
      },
      "source": [
        "#Imprimindo a quantidade de linhas e colunas dos Data Frames:\n",
        "print(\"O Data Frame de Treino tem: {} linhas e {} colunas\".format(train.shape[0], train.shape[1]))\n",
        "print(\"O Data Frame de Teste tem: {} linhas e {} colunas\".format(test.shape[0], test.shape[1]))"
      ],
      "execution_count": 63,
      "outputs": [
        {
          "output_type": "stream",
          "text": [
            "O Data Frame de Treino tem: 891 linhas e 12 colunas\n",
            "O Data Frame de Teste tem: 418 linhas e 11 colunas\n"
          ],
          "name": "stdout"
        }
      ]
    },
    {
      "cell_type": "markdown",
      "metadata": {
        "id": "OtOMouaGtrNs",
        "colab_type": "text"
      },
      "source": [
        "##Q3. Qual a Porcentagem de Instâncias (Linhas) do Data Frame de Treino sobre o Total?"
      ]
    },
    {
      "cell_type": "code",
      "metadata": {
        "id": "4vYDz-iksX2x",
        "colab_type": "code",
        "colab": {
          "base_uri": "https://localhost:8080/",
          "height": 34
        },
        "outputId": "42155ab3-5c1d-4818-fb45-145eee03f20f"
      },
      "source": [
        "#Imprimindo a % de dados de treino sobre o total:\n",
        "print(\"Temos {:.3f}% dos dados estão como treino\".format(train.shape[0]/(train.shape[0]+test.shape[0])*100))"
      ],
      "execution_count": 64,
      "outputs": [
        {
          "output_type": "stream",
          "text": [
            "Temos 68.067% dos dados estão como treino\n"
          ],
          "name": "stdout"
        }
      ]
    },
    {
      "cell_type": "markdown",
      "metadata": {
        "id": "4XDZ3wvtbBO0",
        "colab_type": "text"
      },
      "source": [
        "##Q4. Qual a quantidade de dados nulos existentes (NaN)?\n",
        "Uma das preocupações que devemos ter logo na Análise Exploratória é de sabermos a quantidade de dados nulos existentes no Data Frame, pois haverá alguns modelos que não conseguirão trabalhar com esses tipos de dados e, para isso, deveremos contornar de alguma forma. Usamos as funções `.isnull().sum()` que irão verificar se a entrada possui valor nulo e, em seguida, somar (`.sum()`) a quantidade de valores verdadeiros (que são representados por `True` ou `1`)."
      ]
    },
    {
      "cell_type": "code",
      "metadata": {
        "id": "dQM87dGcslKq",
        "colab_type": "code",
        "colab": {
          "base_uri": "https://localhost:8080/",
          "height": 247
        },
        "outputId": "712fb078-869f-4790-dfd1-d03ce4862ead"
      },
      "source": [
        "#Quantos dados nulos estão presentes nesse Data Frame por coluna:\n",
        "train.isnull().sum().sort_values(ascending=False)"
      ],
      "execution_count": 65,
      "outputs": [
        {
          "output_type": "execute_result",
          "data": {
            "text/plain": [
              "Cabin          687\n",
              "Age            177\n",
              "Embarked         2\n",
              "Fare             0\n",
              "Ticket           0\n",
              "Parch            0\n",
              "SibSp            0\n",
              "Sex              0\n",
              "Name             0\n",
              "Pclass           0\n",
              "Survived         0\n",
              "PassengerId      0\n",
              "dtype: int64"
            ]
          },
          "metadata": {
            "tags": []
          },
          "execution_count": 65
        }
      ]
    },
    {
      "cell_type": "markdown",
      "metadata": {
        "id": "-xWCF5FQbjsw",
        "colab_type": "text"
      },
      "source": [
        "##Q5. Quais são os tipos de dados das nossas colunas?\n",
        "Outra preocupação que deve ser investigada logo no começo, pois podemos achar que estamos manipulando valores númericos como `int64` ou `float64`, mas na verdade estaríamos trabalhando com `strings` que são acusados como `object`.\n",
        "\n",
        "Para isso, utilizamos o atributo `.dtypes`."
      ]
    },
    {
      "cell_type": "code",
      "metadata": {
        "id": "JiTLuM3NsmS2",
        "colab_type": "code",
        "colab": {
          "base_uri": "https://localhost:8080/",
          "height": 247
        },
        "outputId": "2e02449c-4440-4506-9109-49e702f609c6"
      },
      "source": [
        "#Verificando os tipos das variáveis:\n",
        "train.dtypes"
      ],
      "execution_count": 66,
      "outputs": [
        {
          "output_type": "execute_result",
          "data": {
            "text/plain": [
              "PassengerId      int64\n",
              "Survived         int64\n",
              "Pclass           int64\n",
              "Name            object\n",
              "Sex             object\n",
              "Age            float64\n",
              "SibSp            int64\n",
              "Parch            int64\n",
              "Ticket          object\n",
              "Fare           float64\n",
              "Cabin           object\n",
              "Embarked        object\n",
              "dtype: object"
            ]
          },
          "metadata": {
            "tags": []
          },
          "execution_count": 66
        }
      ]
    },
    {
      "cell_type": "markdown",
      "metadata": {
        "id": "OBpbhc7cc8VM",
        "colab_type": "text"
      },
      "source": [
        "##Q6. Quais são as Descrições Estatísticas?"
      ]
    },
    {
      "cell_type": "code",
      "metadata": {
        "id": "AyNbkBocs-pK",
        "colab_type": "code",
        "colab": {
          "base_uri": "https://localhost:8080/",
          "height": 287
        },
        "outputId": "96465bc9-9723-4546-a2dd-e45356557129"
      },
      "source": [
        "#Informações Estatísticas Descritivas.\n",
        "train.describe().round(2)"
      ],
      "execution_count": 67,
      "outputs": [
        {
          "output_type": "execute_result",
          "data": {
            "text/html": [
              "<div>\n",
              "<style scoped>\n",
              "    .dataframe tbody tr th:only-of-type {\n",
              "        vertical-align: middle;\n",
              "    }\n",
              "\n",
              "    .dataframe tbody tr th {\n",
              "        vertical-align: top;\n",
              "    }\n",
              "\n",
              "    .dataframe thead th {\n",
              "        text-align: right;\n",
              "    }\n",
              "</style>\n",
              "<table border=\"1\" class=\"dataframe\">\n",
              "  <thead>\n",
              "    <tr style=\"text-align: right;\">\n",
              "      <th></th>\n",
              "      <th>PassengerId</th>\n",
              "      <th>Survived</th>\n",
              "      <th>Pclass</th>\n",
              "      <th>Age</th>\n",
              "      <th>SibSp</th>\n",
              "      <th>Parch</th>\n",
              "      <th>Fare</th>\n",
              "    </tr>\n",
              "  </thead>\n",
              "  <tbody>\n",
              "    <tr>\n",
              "      <th>count</th>\n",
              "      <td>891.00</td>\n",
              "      <td>891.00</td>\n",
              "      <td>891.00</td>\n",
              "      <td>714.00</td>\n",
              "      <td>891.00</td>\n",
              "      <td>891.00</td>\n",
              "      <td>891.00</td>\n",
              "    </tr>\n",
              "    <tr>\n",
              "      <th>mean</th>\n",
              "      <td>446.00</td>\n",
              "      <td>0.38</td>\n",
              "      <td>2.31</td>\n",
              "      <td>29.70</td>\n",
              "      <td>0.52</td>\n",
              "      <td>0.38</td>\n",
              "      <td>32.20</td>\n",
              "    </tr>\n",
              "    <tr>\n",
              "      <th>std</th>\n",
              "      <td>257.35</td>\n",
              "      <td>0.49</td>\n",
              "      <td>0.84</td>\n",
              "      <td>14.53</td>\n",
              "      <td>1.10</td>\n",
              "      <td>0.81</td>\n",
              "      <td>49.69</td>\n",
              "    </tr>\n",
              "    <tr>\n",
              "      <th>min</th>\n",
              "      <td>1.00</td>\n",
              "      <td>0.00</td>\n",
              "      <td>1.00</td>\n",
              "      <td>0.42</td>\n",
              "      <td>0.00</td>\n",
              "      <td>0.00</td>\n",
              "      <td>0.00</td>\n",
              "    </tr>\n",
              "    <tr>\n",
              "      <th>25%</th>\n",
              "      <td>223.50</td>\n",
              "      <td>0.00</td>\n",
              "      <td>2.00</td>\n",
              "      <td>20.12</td>\n",
              "      <td>0.00</td>\n",
              "      <td>0.00</td>\n",
              "      <td>7.91</td>\n",
              "    </tr>\n",
              "    <tr>\n",
              "      <th>50%</th>\n",
              "      <td>446.00</td>\n",
              "      <td>0.00</td>\n",
              "      <td>3.00</td>\n",
              "      <td>28.00</td>\n",
              "      <td>0.00</td>\n",
              "      <td>0.00</td>\n",
              "      <td>14.45</td>\n",
              "    </tr>\n",
              "    <tr>\n",
              "      <th>75%</th>\n",
              "      <td>668.50</td>\n",
              "      <td>1.00</td>\n",
              "      <td>3.00</td>\n",
              "      <td>38.00</td>\n",
              "      <td>1.00</td>\n",
              "      <td>0.00</td>\n",
              "      <td>31.00</td>\n",
              "    </tr>\n",
              "    <tr>\n",
              "      <th>max</th>\n",
              "      <td>891.00</td>\n",
              "      <td>1.00</td>\n",
              "      <td>3.00</td>\n",
              "      <td>80.00</td>\n",
              "      <td>8.00</td>\n",
              "      <td>6.00</td>\n",
              "      <td>512.33</td>\n",
              "    </tr>\n",
              "  </tbody>\n",
              "</table>\n",
              "</div>"
            ],
            "text/plain": [
              "       PassengerId  Survived  Pclass     Age   SibSp   Parch    Fare\n",
              "count       891.00    891.00  891.00  714.00  891.00  891.00  891.00\n",
              "mean        446.00      0.38    2.31   29.70    0.52    0.38   32.20\n",
              "std         257.35      0.49    0.84   14.53    1.10    0.81   49.69\n",
              "min           1.00      0.00    1.00    0.42    0.00    0.00    0.00\n",
              "25%         223.50      0.00    2.00   20.12    0.00    0.00    7.91\n",
              "50%         446.00      0.00    3.00   28.00    0.00    0.00   14.45\n",
              "75%         668.50      1.00    3.00   38.00    1.00    0.00   31.00\n",
              "max         891.00      1.00    3.00   80.00    8.00    6.00  512.33"
            ]
          },
          "metadata": {
            "tags": []
          },
          "execution_count": 67
        }
      ]
    },
    {
      "cell_type": "code",
      "metadata": {
        "id": "XYyf40SX6fE8",
        "colab_type": "code",
        "colab": {
          "base_uri": "https://localhost:8080/",
          "height": 606
        },
        "outputId": "7a133d8f-ec56-4194-b112-084fbb9601de"
      },
      "source": [
        "train.hist(figsize = (15,10));"
      ],
      "execution_count": 68,
      "outputs": [
        {
          "output_type": "display_data",
          "data": {
            "image/png": "[encoded data removed]",
            "text/plain": [
              "<Figure size 1080x720 with 9 Axes>"
            ]
          },
          "metadata": {
            "tags": [],
            "needs_background": "light"
          }
        }
      ]
    },
    {
      "cell_type": "code",
      "metadata": {
        "id": "mZPodyar9_nJ",
        "colab_type": "code",
        "colab": {
          "base_uri": "https://localhost:8080/",
          "height": 587
        },
        "outputId": "1d2ee401-04e8-43f6-d403-8a0014b28bc8"
      },
      "source": [
        "train['Title'] = train.Name.str.extract(' ([A-Za-z]+)\\.', expand=False)\n",
        "pd.crosstab(train['Title'], train['Sex'])"
      ],
      "execution_count": 94,
      "outputs": [
        {
          "output_type": "execute_result",
          "data": {
            "text/html": [
              "<div>\n",
              "<style scoped>\n",
              "    .dataframe tbody tr th:only-of-type {\n",
              "        vertical-align: middle;\n",
              "    }\n",
              "\n",
              "    .dataframe tbody tr th {\n",
              "        vertical-align: top;\n",
              "    }\n",
              "\n",
              "    .dataframe thead th {\n",
              "        text-align: right;\n",
              "    }\n",
              "</style>\n",
              "<table border=\"1\" class=\"dataframe\">\n",
              "  <thead>\n",
              "    <tr style=\"text-align: right;\">\n",
              "      <th>Sex</th>\n",
              "      <th>0</th>\n",
              "      <th>1</th>\n",
              "    </tr>\n",
              "    <tr>\n",
              "      <th>Title</th>\n",
              "      <th></th>\n",
              "      <th></th>\n",
              "    </tr>\n",
              "  </thead>\n",
              "  <tbody>\n",
              "    <tr>\n",
              "      <th>Capt</th>\n",
              "      <td>0</td>\n",
              "      <td>1</td>\n",
              "    </tr>\n",
              "    <tr>\n",
              "      <th>Col</th>\n",
              "      <td>0</td>\n",
              "      <td>2</td>\n",
              "    </tr>\n",
              "    <tr>\n",
              "      <th>Countess</th>\n",
              "      <td>1</td>\n",
              "      <td>0</td>\n",
              "    </tr>\n",
              "    <tr>\n",
              "      <th>Don</th>\n",
              "      <td>0</td>\n",
              "      <td>1</td>\n",
              "    </tr>\n",
              "    <tr>\n",
              "      <th>Dr</th>\n",
              "      <td>1</td>\n",
              "      <td>6</td>\n",
              "    </tr>\n",
              "    <tr>\n",
              "      <th>Jonkheer</th>\n",
              "      <td>0</td>\n",
              "      <td>1</td>\n",
              "    </tr>\n",
              "    <tr>\n",
              "      <th>Lady</th>\n",
              "      <td>1</td>\n",
              "      <td>0</td>\n",
              "    </tr>\n",
              "    <tr>\n",
              "      <th>Major</th>\n",
              "      <td>0</td>\n",
              "      <td>2</td>\n",
              "    </tr>\n",
              "    <tr>\n",
              "      <th>Master</th>\n",
              "      <td>0</td>\n",
              "      <td>40</td>\n",
              "    </tr>\n",
              "    <tr>\n",
              "      <th>Miss</th>\n",
              "      <td>182</td>\n",
              "      <td>0</td>\n",
              "    </tr>\n",
              "    <tr>\n",
              "      <th>Mlle</th>\n",
              "      <td>2</td>\n",
              "      <td>0</td>\n",
              "    </tr>\n",
              "    <tr>\n",
              "      <th>Mme</th>\n",
              "      <td>1</td>\n",
              "      <td>0</td>\n",
              "    </tr>\n",
              "    <tr>\n",
              "      <th>Mr</th>\n",
              "      <td>0</td>\n",
              "      <td>517</td>\n",
              "    </tr>\n",
              "    <tr>\n",
              "      <th>Mrs</th>\n",
              "      <td>125</td>\n",
              "      <td>0</td>\n",
              "    </tr>\n",
              "    <tr>\n",
              "      <th>Ms</th>\n",
              "      <td>1</td>\n",
              "      <td>0</td>\n",
              "    </tr>\n",
              "    <tr>\n",
              "      <th>Rev</th>\n",
              "      <td>0</td>\n",
              "      <td>6</td>\n",
              "    </tr>\n",
              "    <tr>\n",
              "      <th>Sir</th>\n",
              "      <td>0</td>\n",
              "      <td>1</td>\n",
              "    </tr>\n",
              "  </tbody>\n",
              "</table>\n",
              "</div>"
            ],
            "text/plain": [
              "Sex         0    1\n",
              "Title             \n",
              "Capt        0    1\n",
              "Col         0    2\n",
              "Countess    1    0\n",
              "Don         0    1\n",
              "Dr          1    6\n",
              "Jonkheer    0    1\n",
              "Lady        1    0\n",
              "Major       0    2\n",
              "Master      0   40\n",
              "Miss      182    0\n",
              "Mlle        2    0\n",
              "Mme         1    0\n",
              "Mr          0  517\n",
              "Mrs       125    0\n",
              "Ms          1    0\n",
              "Rev         0    6\n",
              "Sir         0    1"
            ]
          },
          "metadata": {
            "tags": []
          },
          "execution_count": 94
        }
      ]
    },
    {
      "cell_type": "code",
      "metadata": {
        "id": "GxLMSct2_g8i",
        "colab_type": "code",
        "colab": {}
      },
      "source": [
        "train[['Title', 'Survived']].groupby(['Title'], as_index=False).mean()"
      ],
      "execution_count": null,
      "outputs": []
    },
    {
      "cell_type": "markdown",
      "metadata": {
        "id": "c-0Y40WUBHJ_",
        "colab_type": "text"
      },
      "source": [
        "#Análise da Sobrevivência:\n",
        "\n",
        "Aqui estarão as análises envolvendo fatores de sobrevivência:"
      ]
    },
    {
      "cell_type": "markdown",
      "metadata": {
        "id": "uv2Xih_Vu0P2",
        "colab_type": "text"
      },
      "source": [
        "##Primeiras Correções:\n",
        "\n",
        "*  Primeira correção à ser feita é alterar o Sexo para variáveis binárias (0 e 1);\n",
        "\n",
        "*  Segunda correção à ser feita é sobre onde os passageiros embarcaram;\n",
        "\n",
        "*  Criar uma variável para passageiros que viajaram sozinho;"
      ]
    },
    {
      "cell_type": "code",
      "metadata": {
        "id": "Rs305iDMu4Pr",
        "colab_type": "code",
        "colab": {}
      },
      "source": [
        "#Datasets que serão corrigidos:\n",
        "combinar = [train, test]\n",
        "\n",
        "for dataset in combinar:\n",
        "  #Arrumando o Sexo female e male para 0 e 1:\n",
        "  dataset['Sex'] = dataset['Sex'].map(lambda x: 0 if x == 'female' else 1)\n",
        "\n",
        "  #Arrumando o local de embarque:\n",
        "  dataset['Embark'] = dataset['Embarked'].map(lambda x: 1 if x == 'C' else 2 if x == 'S' else 3 if x == 'Q' else 0)\n",
        "\n",
        "  #Criando uma variável para passageiros que viajaram sozinho:\n",
        "  dataset['Sozinho'] = 0\n",
        "  dataset.loc[(dataset['SibSp'] + dataset['Parch']) == 0, 'Sozinho'] = 1 \n",
        "\n",
        "  #Extraindo os nomes:\n",
        "  dataset['Title'] = dataset.Name.str.extract(' ([A-Za-z]+)\\.', expand=False)\n",
        "  dataset['Title'] = dataset['Title'].replace(['Capt', 'Col', 'Countess', 'Don', 'Dona', 'Dr'\n",
        "                                              , 'Jonkheer', 'Lady', 'Major', 'Rev', 'Sir'], 'Raro')\n",
        "  dataset['Title'] = dataset['Title'].replace('Mlle', 'Miss')\n",
        "  dataset['Title'] = dataset['Title'].replace('Ms', 'Miss')\n",
        "  dataset['Title'] = dataset['Title'].replace('Mme', 'Mrs')\n",
        "\n",
        "  #Retirando as colunas desnecessárias:\n",
        "  dataset.drop(['Embarked', 'Ticket', 'Cabin', 'SibSp', 'Parch'], axis = 1, inplace=True)"
      ],
      "execution_count": 70,
      "outputs": []
    },
    {
      "cell_type": "markdown",
      "metadata": {
        "id": "fWPKx7DIu18p",
        "colab_type": "text"
      },
      "source": [
        "# Elaboração de Modelos de ML:\n",
        "## Gerando o subconjunto de treino teste."
      ]
    },
    {
      "cell_type": "code",
      "metadata": {
        "id": "9yOUvF0ZBvoj",
        "colab_type": "code",
        "colab": {}
      },
      "source": [
        "variaveis = ['Pclass', 'Sex', 'Age', 'Fare', 'Embark', 'Sozinho']\n",
        "\n",
        "X = train[variaveis].fillna(-1)\n",
        "y = train['Survived']"
      ],
      "execution_count": 72,
      "outputs": []
    },
    {
      "cell_type": "code",
      "metadata": {
        "id": "4KE3C31Nvfn_",
        "colab_type": "code",
        "colab": {
          "base_uri": "https://localhost:8080/",
          "height": 105
        },
        "outputId": "35caa90d-8ee8-4208-d8e9-deac638213d0"
      },
      "source": [
        "X_train = train[variaveis]\n",
        "X_train.fillna(-1, inplace = True)\n",
        "y_train = train.Survived\n",
        "\n",
        "X_test = test[variaveis]\n",
        "X_test.fillna(-1, inplace = True)\n",
        "y_test = test"
      ],
      "execution_count": 73,
      "outputs": [
        {
          "output_type": "stream",
          "text": [
            "/usr/local/lib/python3.6/dist-packages/pandas/core/frame.py:4153: SettingWithCopyWarning: \n",
            "A value is trying to be set on a copy of a slice from a DataFrame\n",
            "\n",
            "See the caveats in the documentation: https://pandas.pydata.org/pandas-docs/stable/user_guide/indexing.html#returning-a-view-versus-a-copy\n",
            "  downcast=downcast,\n"
          ],
          "name": "stderr"
        }
      ]
    },
    {
      "cell_type": "markdown",
      "metadata": {
        "id": "Nmd67uReDfmG",
        "colab_type": "text"
      },
      "source": [
        "## Pré Processamentos Utilizados:"
      ]
    },
    {
      "cell_type": "code",
      "metadata": {
        "id": "RefReKBcDlUx",
        "colab_type": "code",
        "colab": {}
      },
      "source": [
        "# Cross Validation - Validação Cruzada:\n",
        "\n",
        "from sklearn.model_selection import KFold\n",
        "from sklearn.model_selection import RepeatedKFold"
      ],
      "execution_count": null,
      "outputs": []
    },
    {
      "cell_type": "markdown",
      "metadata": {
        "id": "s1f-f2F1Cr4B",
        "colab_type": "text"
      },
      "source": [
        "## Modelos Utilizados:"
      ]
    },
    {
      "cell_type": "code",
      "metadata": {
        "id": "Oh8BAYbLDcCR",
        "colab_type": "code",
        "colab": {}
      },
      "source": [
        "# Classificação Supervisionada:\n",
        "from sklearn.ensemble import AdaBoostClassifier, GradientBoostingClassifier, RandomForestClassifier\n",
        "from sklearn.linear_model import LogisticRegression\n",
        "from sklearn.naive_bayes import GaussianNB\n",
        "from sklearn.neighbors import KNeighborsClassifier\n",
        "from xgboost import XGBClassifier\n",
        "\n",
        "#MLA -> Machine Learning Algorithms (Algoritmos de Machine Learning):\n",
        "\n",
        "MLA = [#Modelos Ensemble:\n",
        "       AdaBoostClassifier(),\n",
        "       GradientBoostingClassifier(),\n",
        "       RandomForestClassifier(n_estimators=100, n_jobs=1, random_state=0), \n",
        "\n",
        "       #Modelos Lineares:\n",
        "       LogisticRegression(),\n",
        "\n",
        "       #Naive Bayes:\n",
        "       GaussianNB(),\n",
        "       \n",
        "       #KNN:\n",
        "       KNeighborsClassifier(),\n",
        "       \n",
        "       #XGB:\n",
        "       XGBClassifier()]"
      ],
      "execution_count": 98,
      "outputs": []
    },
    {
      "cell_type": "markdown",
      "metadata": {
        "id": "HA8YQZEDDh2F",
        "colab_type": "text"
      },
      "source": [
        "## Validações Utilizadas:"
      ]
    },
    {
      "cell_type": "code",
      "metadata": {
        "id": "sZ7f6jWaDpU4",
        "colab_type": "code",
        "colab": {}
      },
      "source": [
        "from sklearn.model_selection import cross_val_score"
      ],
      "execution_count": null,
      "outputs": []
    },
    {
      "cell_type": "markdown",
      "metadata": {
        "id": "fcmnaQ-FEgOc",
        "colab_type": "text"
      },
      "source": [
        "## Modelos:"
      ]
    },
    {
      "cell_type": "code",
      "metadata": {
        "id": "pysksnGFGEyw",
        "colab_type": "code",
        "colab": {}
      },
      "source": [
        ""
      ],
      "execution_count": null,
      "outputs": []
    },
    {
      "cell_type": "code",
      "metadata": {
        "id": "f6qia7Cbt44M",
        "colab_type": "code",
        "colab": {
          "base_uri": "https://localhost:8080/",
          "height": 34
        },
        "outputId": "4acd3249-fbc1-46ac-ea67-2aa6ac4a924b"
      },
      "source": [
        "modelo = RandomForestClassifier(n_estimators=100, n_jobs=1, random_state=0)\n",
        "modelo.fit(X_train, y_train)\n",
        "\n",
        "y_pred = modelo.predict(X_test)\n",
        "print(cross_val_score(modelo, X=X_train, y = y_train, cv=10).mean())"
      ],
      "execution_count": 74,
      "outputs": [
        {
          "output_type": "stream",
          "text": [
            "0.8070536828963796\n"
          ],
          "name": "stdout"
        }
      ]
    },
    {
      "cell_type": "code",
      "metadata": {
        "id": "bharNqNaChk_",
        "colab_type": "code",
        "colab": {
          "base_uri": "https://localhost:8080/",
          "height": 34
        },
        "outputId": "1cd0d5e4-e6c5-45e2-f7b4-4ea7e4eae36e"
      },
      "source": [
        "# Validação Cruzada:\n",
        "kf = KFold(2, shuffle = True, random_state = 0)\n",
        "\n",
        "resultados = []\n",
        "\n",
        "for linhas_treino, linhas_valid in kf.split(X):\n",
        "  # print('Treino: ', linhas_treino.shape[0])\n",
        "  # print('Valid: ', linhas_valid.shape)\n",
        "  X_train, X_valid = X.iloc[linhas_treino], X.iloc[linhas_valid]\n",
        "  y_train, y_valid = y.iloc[linhas_treino], y.iloc[linhas_valid]\n",
        "  modelo = RandomForestClassifier(n_estimators=100, n_jobs=1, random_state=0)\n",
        "  modelo.fit(X_train, y_train)\n",
        "\n",
        "  y_pred = modelo.predict(X_valid)\n",
        "  acc = np.mean(y_valid==y_pred)\n",
        "  resultados.append(acc)\n",
        "np.mean(resultados)"
      ],
      "execution_count": 75,
      "outputs": [
        {
          "output_type": "execute_result",
          "data": {
            "text/plain": [
              "0.7890058950974959"
            ]
          },
          "metadata": {
            "tags": []
          },
          "execution_count": 75
        }
      ]
    },
    {
      "cell_type": "code",
      "metadata": {
        "id": "x4LTZa0PGyFi",
        "colab_type": "code",
        "colab": {
          "base_uri": "https://localhost:8080/",
          "height": 34
        },
        "outputId": "a816723e-bed0-495c-b4d5-e36be775acd1"
      },
      "source": [
        "kf = RepeatedKFold(2, n_repeats=10, random_state = 10)\n",
        "\n",
        "resultados = []\n",
        "\n",
        "for linhas_treino, linhas_valid in kf.split(X):\n",
        "  # print('Treino: ', linhas_treino.shape[0])\n",
        "  # print('Valid: ', linhas_valid.shape)\n",
        "  X_train, X_valid = X.iloc[linhas_treino], X.iloc[linhas_valid]\n",
        "  y_train, y_valid = y.iloc[linhas_treino], y.iloc[linhas_valid]\n",
        "  modelo = RandomForestClassifier(n_estimators=100, n_jobs=1, random_state=0)\n",
        "  modelo.fit(X_train, y_train)\n",
        "\n",
        "  y_pred = modelo.predict(X_valid)\n",
        "  acc = np.mean(y_valid==y_pred)\n",
        "  resultados.append(acc)\n",
        "np.mean(resultados)"
      ],
      "execution_count": 76,
      "outputs": [
        {
          "output_type": "execute_result",
          "data": {
            "text/plain": [
              "0.7947211165415429"
            ]
          },
          "metadata": {
            "tags": []
          },
          "execution_count": 76
        }
      ]
    },
    {
      "cell_type": "code",
      "metadata": {
        "id": "8ZG4e7hyHgFN",
        "colab_type": "code",
        "colab": {
          "base_uri": "https://localhost:8080/",
          "height": 264
        },
        "outputId": "c3b1e168-de8f-4cfc-c19b-b54a96cecaee"
      },
      "source": [
        "plt.hist(resultados);"
      ],
      "execution_count": 77,
      "outputs": [
        {
          "output_type": "display_data",
          "data": {
            "image/png": "[encoded data removed]",
            "text/plain": [
              "<Figure size 432x288 with 1 Axes>"
            ]
          },
          "metadata": {
            "tags": [],
            "needs_background": "light"
          }
        }
      ]
    },
    {
      "cell_type": "markdown",
      "metadata": {
        "id": "5Y-x_r5C-Bai",
        "colab_type": "text"
      },
      "source": [
        "#Regressão Logistica"
      ]
    },
    {
      "cell_type": "code",
      "metadata": {
        "id": "7cDFn1gW-FoG",
        "colab_type": "code",
        "colab": {
          "base_uri": "https://localhost:8080/",
          "height": 123
        },
        "outputId": "c658c17d-4453-495a-870e-6083e5138c41"
      },
      "source": [
        "\n",
        "X_train = train.drop('Survived', axis = 1)\n",
        "X_train = X_train[variaveis]\n",
        "X_test = test[variaveis]\n",
        "X_train.fillna(-1, inplace = True)\n",
        "X_test.fillna(-1, inplace = True)\n",
        "\n",
        "y_train = train['Survived']\n",
        "y_test = test\n",
        "\n",
        "modelo = LogisticRegression(max_iter=X_train.shape[0])\n",
        "modelo.fit(X_train, y_train)\n",
        "y_pred = modelo.predict(X_test)\n",
        "\n",
        "print('{:.4f}'.format(cross_val_score(modelo, X=X_train, y = y_train, cv=10).mean()))\n",
        "\n",
        "p = modelo.predict(X_test)\n",
        "\n",
        "sub = pd.Series(p, index = test['PassengerId'], name= 'Survived')\n",
        "sub.to_csv(\"Logistic_Regression.csv\", header=True)"
      ],
      "execution_count": 78,
      "outputs": [
        {
          "output_type": "stream",
          "text": [
            "/usr/local/lib/python3.6/dist-packages/pandas/core/frame.py:4153: SettingWithCopyWarning: \n",
            "A value is trying to be set on a copy of a slice from a DataFrame\n",
            "\n",
            "See the caveats in the documentation: https://pandas.pydata.org/pandas-docs/stable/user_guide/indexing.html#returning-a-view-versus-a-copy\n",
            "  downcast=downcast,\n"
          ],
          "name": "stderr"
        },
        {
          "output_type": "stream",
          "text": [
            "0.7744\n"
          ],
          "name": "stdout"
        }
      ]
    },
    {
      "cell_type": "markdown",
      "metadata": {
        "id": "kz_hhVXSIWmG",
        "colab_type": "text"
      },
      "source": [
        "#Utilizando outras Variáveis:"
      ]
    },
    {
      "cell_type": "code",
      "metadata": {
        "id": "kLKHuRFBIYHQ",
        "colab_type": "code",
        "colab": {
          "base_uri": "https://localhost:8080/",
          "height": 34
        },
        "outputId": "ced003eb-1ee7-4e26-c63d-ed2ee7cd593a"
      },
      "source": [
        "X = train[variaveis].fillna(-1)\n",
        "y = train['Survived']\n",
        "\n",
        "\n",
        "kf = RepeatedKFold(3, n_repeats=10, random_state = 10)\n",
        "\n",
        "resultados = []\n",
        "\n",
        "for linhas_treino, linhas_valid in kf.split(X):\n",
        "  # print('Treino: ', linhas_treino.shape[0])\n",
        "  # print('Valid: ', linhas_valid.shape)\n",
        "  X_train, X_valid = X.iloc[linhas_treino], X.iloc[linhas_valid]\n",
        "  y_train, y_valid = y.iloc[linhas_treino], y.iloc[linhas_valid]\n",
        "  modelo = RandomForestClassifier(n_estimators=100, n_jobs=1, random_state=0)\n",
        "  modelo.fit(X_train, y_train)\n",
        "\n",
        "  y_pred = modelo.predict(X_valid)\n",
        "  acc = np.mean(y_valid==y_pred)\n",
        "  resultados.append(acc)\n",
        "np.mean(resultados)"
      ],
      "execution_count": 79,
      "outputs": [
        {
          "output_type": "execute_result",
          "data": {
            "text/plain": [
              "0.8034792368125702"
            ]
          },
          "metadata": {
            "tags": []
          },
          "execution_count": 79
        }
      ]
    },
    {
      "cell_type": "code",
      "metadata": {
        "id": "0V2TQTF-Jhm5",
        "colab_type": "code",
        "colab": {}
      },
      "source": [
        "modelo = RandomForestClassifier(n_estimators=100, n_jobs=1, random_state=0)\n",
        "modelo.fit(X,y)\n",
        "\n",
        "p = modelo.predict(test[variaveis].fillna(-1))"
      ],
      "execution_count": 80,
      "outputs": []
    },
    {
      "cell_type": "code",
      "metadata": {
        "id": "mRwVQIZrddhA",
        "colab_type": "code",
        "colab": {
          "base_uri": "https://localhost:8080/",
          "height": 354
        },
        "outputId": "d66a38a5-34b4-467b-f0b3-c8d717ac91a7"
      },
      "source": [
        "p"
      ],
      "execution_count": 81,
      "outputs": [
        {
          "output_type": "execute_result",
          "data": {
            "text/plain": [
              "array([0, 0, 0, 1, 1, 0, 0, 0, 1, 0, 0, 0, 1, 0, 1, 1, 0, 1, 0, 0, 0, 0,\n",
              "       1, 1, 1, 0, 1, 1, 1, 0, 0, 0, 1, 0, 1, 1, 0, 0, 0, 1, 0, 0, 0, 1,\n",
              "       1, 0, 0, 0, 1, 1, 0, 0, 1, 1, 0, 0, 0, 0, 0, 1, 0, 0, 0, 1, 0, 1,\n",
              "       1, 0, 0, 1, 1, 0, 0, 0, 1, 0, 0, 1, 0, 1, 1, 0, 0, 0, 0, 1, 1, 0,\n",
              "       1, 1, 1, 0, 1, 0, 0, 0, 1, 0, 0, 0, 1, 0, 0, 0, 1, 0, 0, 0, 0, 0,\n",
              "       0, 1, 1, 0, 1, 0, 0, 1, 1, 1, 1, 0, 1, 0, 0, 0, 0, 1, 0, 0, 1, 0,\n",
              "       0, 0, 0, 0, 0, 0, 0, 0, 0, 1, 0, 0, 1, 0, 0, 0, 0, 0, 1, 0, 0, 1,\n",
              "       0, 0, 1, 1, 1, 0, 1, 1, 1, 0, 0, 0, 0, 0, 1, 0, 0, 0, 0, 0, 0, 1,\n",
              "       1, 0, 1, 1, 0, 0, 1, 0, 1, 0, 1, 1, 0, 0, 0, 0, 1, 0, 1, 0, 1, 0,\n",
              "       0, 0, 1, 1, 0, 1, 0, 0, 0, 0, 1, 0, 0, 0, 0, 1, 0, 0, 1, 0, 1, 0,\n",
              "       1, 0, 1, 1, 1, 0, 0, 1, 0, 0, 0, 1, 0, 0, 1, 0, 1, 1, 1, 1, 1, 1,\n",
              "       0, 0, 0, 0, 1, 0, 1, 0, 1, 0, 0, 0, 0, 0, 0, 0, 1, 0, 0, 0, 1, 1,\n",
              "       0, 0, 0, 0, 0, 0, 0, 0, 1, 1, 0, 1, 0, 0, 0, 0, 0, 1, 1, 0, 0, 0,\n",
              "       0, 0, 0, 0, 0, 0, 0, 0, 0, 0, 1, 0, 0, 0, 0, 0, 0, 0, 1, 1, 1, 1,\n",
              "       0, 0, 0, 1, 0, 0, 1, 1, 0, 0, 0, 0, 0, 0, 0, 1, 1, 0, 1, 0, 0, 0,\n",
              "       1, 1, 0, 1, 0, 0, 1, 0, 0, 0, 0, 0, 0, 1, 0, 1, 0, 0, 0, 1, 1, 0,\n",
              "       0, 0, 1, 0, 1, 0, 0, 0, 0, 1, 1, 1, 1, 0, 1, 0, 1, 0, 0, 1, 0, 0,\n",
              "       1, 1, 0, 0, 0, 0, 0, 0, 0, 0, 1, 1, 0, 0, 0, 1, 0, 1, 0, 0, 0, 1,\n",
              "       0, 1, 0, 0, 1, 0, 1, 0, 0, 0, 0, 0, 1, 1, 1, 1, 0, 0, 1, 0, 0, 0])"
            ]
          },
          "metadata": {
            "tags": []
          },
          "execution_count": 81
        }
      ]
    },
    {
      "cell_type": "markdown",
      "metadata": {
        "id": "EfL1PP5KPHgk",
        "colab_type": "text"
      },
      "source": [
        "#Criando novas Variáveis:"
      ]
    },
    {
      "cell_type": "code",
      "metadata": {
        "id": "fEKF-GerQNAE",
        "colab_type": "code",
        "colab": {
          "base_uri": "https://localhost:8080/",
          "height": 34
        },
        "outputId": "979b4568-94d0-441a-e514-c581096087e5"
      },
      "source": [
        "\n",
        "X = train[variaveis].fillna(-1)\n",
        "y = train['Survived']\n",
        "\n",
        "kf = RepeatedKFold(3, n_repeats=10, random_state = 10)\n",
        "\n",
        "resultados = []\n",
        "\n",
        "for linhas_treino, linhas_valid in kf.split(X):\n",
        "  # print('Treino: ', linhas_treino.shape[0])\n",
        "  # print('Valid: ', linhas_valid.shape)\n",
        "  X_train, X_valid = X.iloc[linhas_treino], X.iloc[linhas_valid]\n",
        "  y_train, y_valid = y.iloc[linhas_treino], y.iloc[linhas_valid]\n",
        "  modelo = GaussianNB()\n",
        "  modelo.fit(X_train, y_train)\n",
        "\n",
        "  y_pred = modelo.predict(X_valid)\n",
        "  acc = np.mean(y_valid==y_pred)\n",
        "  resultados.append(acc)\n",
        "np.mean(resultados)"
      ],
      "execution_count": 82,
      "outputs": [
        {
          "output_type": "execute_result",
          "data": {
            "text/plain": [
              "0.7689113355780023"
            ]
          },
          "metadata": {
            "tags": []
          },
          "execution_count": 82
        }
      ]
    },
    {
      "cell_type": "markdown",
      "metadata": {
        "id": "1Jtkdw_JywOB",
        "colab_type": "text"
      },
      "source": [
        "#Criando a Subscrição:"
      ]
    },
    {
      "cell_type": "code",
      "metadata": {
        "id": "7SSMsIGQyzBi",
        "colab_type": "code",
        "colab": {}
      },
      "source": [
        "sub = pd.Series(p, index = test['PassengerId'], name= 'Survived')\n",
        "sub.to_csv(\"segundo_modelo.csv\", header=True)"
      ],
      "execution_count": 83,
      "outputs": []
    }
  ]
}