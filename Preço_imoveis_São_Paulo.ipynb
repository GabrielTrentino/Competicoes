{
  "nbformat": 4,
  "nbformat_minor": 0,
  "metadata": {
    "colab": {
      "name": "Preço_imoveis_São_Paulo.ipynb",
      "provenance": [],
      "collapsed_sections": [],
      "toc_visible": true,
      "authorship_tag": "ABX9TyNOxrnf0i5EIirU34Sfdm3N",
      "include_colab_link": true
    },
    "kernelspec": {
      "name": "python3",
      "display_name": "Python 3"
    }
  },
  "cells": [
    {
      "cell_type": "markdown",
      "metadata": {
        "id": "view-in-github",
        "colab_type": "text"
      },
      "source": [
        "<a href=\"https://colab.research.google.com/github/GabrielTrentino/Competicoes/blob/master/Pre%C3%A7o_imoveis_S%C3%A3o_Paulo.ipynb\" target=\"_parent\"><img src=\"https://colab.research.google.com/assets/colab-badge.svg\" alt=\"Open In Colab\"/></a>"
      ]
    },
    {
      "cell_type": "markdown",
      "metadata": {
        "id": "uzuGpJydFvp9",
        "colab_type": "text"
      },
      "source": [
        "#Importando as bibliotecas neceessárias:"
      ]
    },
    {
      "cell_type": "code",
      "metadata": {
        "id": "Np8PnHAm7xhx",
        "colab_type": "code",
        "outputId": "ce923010-e672-4fb6-f516-cc96bf5fc07f",
        "colab": {
          "base_uri": "https://localhost:8080/",
          "height": 436
        }
      },
      "source": [
        "# importar os pacotes necessários\n",
        "import pandas as pd\n",
        "import numpy as np\n",
        "import matplotlib.pyplot as plt\n",
        "import seaborn as sns\n",
        "from sklearn.model_selection import train_test_split\n",
        "\n",
        "from xgboost import XGBRegressor\n",
        "# importar o dataset para um dataframe\n",
        "df = pd.read_csv('sao-paulo-properties-april-2019.csv')\n",
        "\n",
        "# ver as 5 primeiras entradas\n",
        "df.head()"
      ],
      "execution_count": 2,
      "outputs": [
        {
          "output_type": "stream",
          "text": [
            "/usr/local/lib/python3.6/dist-packages/statsmodels/tools/_testing.py:19: FutureWarning: pandas.util.testing is deprecated. Use the functions in the public API at pandas.testing instead.\n",
            "  import pandas.util.testing as tm\n"
          ],
          "name": "stderr"
        },
        {
          "output_type": "execute_result",
          "data": {
            "text/html": [
              "<div>\n",
              "<style scoped>\n",
              "    .dataframe tbody tr th:only-of-type {\n",
              "        vertical-align: middle;\n",
              "    }\n",
              "\n",
              "    .dataframe tbody tr th {\n",
              "        vertical-align: top;\n",
              "    }\n",
              "\n",
              "    .dataframe thead th {\n",
              "        text-align: right;\n",
              "    }\n",
              "</style>\n",
              "<table border=\"1\" class=\"dataframe\">\n",
              "  <thead>\n",
              "    <tr style=\"text-align: right;\">\n",
              "      <th></th>\n",
              "      <th>Price</th>\n",
              "      <th>Condo</th>\n",
              "      <th>Size</th>\n",
              "      <th>Rooms</th>\n",
              "      <th>Toilets</th>\n",
              "      <th>Suites</th>\n",
              "      <th>Parking</th>\n",
              "      <th>Elevator</th>\n",
              "      <th>Furnished</th>\n",
              "      <th>Swimming Pool</th>\n",
              "      <th>New</th>\n",
              "      <th>District</th>\n",
              "      <th>Negotiation Type</th>\n",
              "      <th>Property Type</th>\n",
              "      <th>Latitude</th>\n",
              "      <th>Longitude</th>\n",
              "    </tr>\n",
              "  </thead>\n",
              "  <tbody>\n",
              "    <tr>\n",
              "      <th>0</th>\n",
              "      <td>930</td>\n",
              "      <td>220</td>\n",
              "      <td>47</td>\n",
              "      <td>2</td>\n",
              "      <td>2</td>\n",
              "      <td>1</td>\n",
              "      <td>1</td>\n",
              "      <td>0</td>\n",
              "      <td>0</td>\n",
              "      <td>0</td>\n",
              "      <td>0</td>\n",
              "      <td>Artur Alvim/São Paulo</td>\n",
              "      <td>rent</td>\n",
              "      <td>apartment</td>\n",
              "      <td>-23.543138</td>\n",
              "      <td>-46.479486</td>\n",
              "    </tr>\n",
              "    <tr>\n",
              "      <th>1</th>\n",
              "      <td>1000</td>\n",
              "      <td>148</td>\n",
              "      <td>45</td>\n",
              "      <td>2</td>\n",
              "      <td>2</td>\n",
              "      <td>1</td>\n",
              "      <td>1</td>\n",
              "      <td>0</td>\n",
              "      <td>0</td>\n",
              "      <td>0</td>\n",
              "      <td>0</td>\n",
              "      <td>Artur Alvim/São Paulo</td>\n",
              "      <td>rent</td>\n",
              "      <td>apartment</td>\n",
              "      <td>-23.550239</td>\n",
              "      <td>-46.480718</td>\n",
              "    </tr>\n",
              "    <tr>\n",
              "      <th>2</th>\n",
              "      <td>1000</td>\n",
              "      <td>100</td>\n",
              "      <td>48</td>\n",
              "      <td>2</td>\n",
              "      <td>2</td>\n",
              "      <td>1</td>\n",
              "      <td>1</td>\n",
              "      <td>0</td>\n",
              "      <td>0</td>\n",
              "      <td>0</td>\n",
              "      <td>0</td>\n",
              "      <td>Artur Alvim/São Paulo</td>\n",
              "      <td>rent</td>\n",
              "      <td>apartment</td>\n",
              "      <td>-23.542818</td>\n",
              "      <td>-46.485665</td>\n",
              "    </tr>\n",
              "    <tr>\n",
              "      <th>3</th>\n",
              "      <td>1000</td>\n",
              "      <td>200</td>\n",
              "      <td>48</td>\n",
              "      <td>2</td>\n",
              "      <td>2</td>\n",
              "      <td>1</td>\n",
              "      <td>1</td>\n",
              "      <td>0</td>\n",
              "      <td>0</td>\n",
              "      <td>0</td>\n",
              "      <td>0</td>\n",
              "      <td>Artur Alvim/São Paulo</td>\n",
              "      <td>rent</td>\n",
              "      <td>apartment</td>\n",
              "      <td>-23.547171</td>\n",
              "      <td>-46.483014</td>\n",
              "    </tr>\n",
              "    <tr>\n",
              "      <th>4</th>\n",
              "      <td>1300</td>\n",
              "      <td>410</td>\n",
              "      <td>55</td>\n",
              "      <td>2</td>\n",
              "      <td>2</td>\n",
              "      <td>1</td>\n",
              "      <td>1</td>\n",
              "      <td>1</td>\n",
              "      <td>0</td>\n",
              "      <td>0</td>\n",
              "      <td>0</td>\n",
              "      <td>Artur Alvim/São Paulo</td>\n",
              "      <td>rent</td>\n",
              "      <td>apartment</td>\n",
              "      <td>-23.525025</td>\n",
              "      <td>-46.482436</td>\n",
              "    </tr>\n",
              "  </tbody>\n",
              "</table>\n",
              "</div>"
            ],
            "text/plain": [
              "   Price  Condo  Size  ...  Property Type   Latitude  Longitude\n",
              "0    930    220    47  ...      apartment -23.543138 -46.479486\n",
              "1   1000    148    45  ...      apartment -23.550239 -46.480718\n",
              "2   1000    100    48  ...      apartment -23.542818 -46.485665\n",
              "3   1000    200    48  ...      apartment -23.547171 -46.483014\n",
              "4   1300    410    55  ...      apartment -23.525025 -46.482436\n",
              "\n",
              "[5 rows x 16 columns]"
            ]
          },
          "metadata": {
            "tags": []
          },
          "execution_count": 2
        }
      ]
    },
    {
      "cell_type": "markdown",
      "metadata": {
        "id": "eELIR6mkF0bd",
        "colab_type": "text"
      },
      "source": [
        "#Análise Exploratória Inicial:"
      ]
    },
    {
      "cell_type": "code",
      "metadata": {
        "id": "EEsM0RRSXOvd",
        "colab_type": "code",
        "outputId": "30326f20-0ffa-446a-caf0-039794b760b1",
        "colab": {
          "base_uri": "https://localhost:8080/",
          "height": 318
        }
      },
      "source": [
        "df.isnull().sum()"
      ],
      "execution_count": 3,
      "outputs": [
        {
          "output_type": "execute_result",
          "data": {
            "text/plain": [
              "Price               0\n",
              "Condo               0\n",
              "Size                0\n",
              "Rooms               0\n",
              "Toilets             0\n",
              "Suites              0\n",
              "Parking             0\n",
              "Elevator            0\n",
              "Furnished           0\n",
              "Swimming Pool       0\n",
              "New                 0\n",
              "District            0\n",
              "Negotiation Type    0\n",
              "Property Type       0\n",
              "Latitude            0\n",
              "Longitude           0\n",
              "dtype: int64"
            ]
          },
          "metadata": {
            "tags": []
          },
          "execution_count": 3
        }
      ]
    },
    {
      "cell_type": "code",
      "metadata": {
        "id": "I7IP0mdWXlsW",
        "colab_type": "code",
        "outputId": "310dc2bc-628a-4f81-d37a-266b13ce24de",
        "colab": {
          "base_uri": "https://localhost:8080/",
          "height": 318
        }
      },
      "source": [
        "df.dtypes"
      ],
      "execution_count": 4,
      "outputs": [
        {
          "output_type": "execute_result",
          "data": {
            "text/plain": [
              "Price                 int64\n",
              "Condo                 int64\n",
              "Size                  int64\n",
              "Rooms                 int64\n",
              "Toilets               int64\n",
              "Suites                int64\n",
              "Parking               int64\n",
              "Elevator              int64\n",
              "Furnished             int64\n",
              "Swimming Pool         int64\n",
              "New                   int64\n",
              "District             object\n",
              "Negotiation Type     object\n",
              "Property Type        object\n",
              "Latitude            float64\n",
              "Longitude           float64\n",
              "dtype: object"
            ]
          },
          "metadata": {
            "tags": []
          },
          "execution_count": 4
        }
      ]
    },
    {
      "cell_type": "code",
      "metadata": {
        "id": "AId1Eu1BXpBb",
        "colab_type": "code",
        "outputId": "3dab47f5-dcb6-4813-da5e-5b31da8b2bdc",
        "colab": {
          "base_uri": "https://localhost:8080/",
          "height": 304
        }
      },
      "source": [
        "df.describe().round(2)"
      ],
      "execution_count": 5,
      "outputs": [
        {
          "output_type": "execute_result",
          "data": {
            "text/html": [
              "<div>\n",
              "<style scoped>\n",
              "    .dataframe tbody tr th:only-of-type {\n",
              "        vertical-align: middle;\n",
              "    }\n",
              "\n",
              "    .dataframe tbody tr th {\n",
              "        vertical-align: top;\n",
              "    }\n",
              "\n",
              "    .dataframe thead th {\n",
              "        text-align: right;\n",
              "    }\n",
              "</style>\n",
              "<table border=\"1\" class=\"dataframe\">\n",
              "  <thead>\n",
              "    <tr style=\"text-align: right;\">\n",
              "      <th></th>\n",
              "      <th>Price</th>\n",
              "      <th>Condo</th>\n",
              "      <th>Size</th>\n",
              "      <th>Rooms</th>\n",
              "      <th>Toilets</th>\n",
              "      <th>Suites</th>\n",
              "      <th>Parking</th>\n",
              "      <th>Elevator</th>\n",
              "      <th>Furnished</th>\n",
              "      <th>Swimming Pool</th>\n",
              "      <th>New</th>\n",
              "      <th>Latitude</th>\n",
              "      <th>Longitude</th>\n",
              "    </tr>\n",
              "  </thead>\n",
              "  <tbody>\n",
              "    <tr>\n",
              "      <th>count</th>\n",
              "      <td>13640.00</td>\n",
              "      <td>13640.00</td>\n",
              "      <td>13640.00</td>\n",
              "      <td>13640.00</td>\n",
              "      <td>13640.00</td>\n",
              "      <td>13640.00</td>\n",
              "      <td>13640.00</td>\n",
              "      <td>13640.00</td>\n",
              "      <td>13640.00</td>\n",
              "      <td>13640.00</td>\n",
              "      <td>13640.00</td>\n",
              "      <td>13640.00</td>\n",
              "      <td>13640.00</td>\n",
              "    </tr>\n",
              "    <tr>\n",
              "      <th>mean</th>\n",
              "      <td>287737.78</td>\n",
              "      <td>689.88</td>\n",
              "      <td>84.37</td>\n",
              "      <td>2.31</td>\n",
              "      <td>2.07</td>\n",
              "      <td>0.98</td>\n",
              "      <td>1.39</td>\n",
              "      <td>0.35</td>\n",
              "      <td>0.15</td>\n",
              "      <td>0.51</td>\n",
              "      <td>0.02</td>\n",
              "      <td>-22.08</td>\n",
              "      <td>-43.60</td>\n",
              "    </tr>\n",
              "    <tr>\n",
              "      <th>std</th>\n",
              "      <td>590821.42</td>\n",
              "      <td>757.65</td>\n",
              "      <td>58.44</td>\n",
              "      <td>0.78</td>\n",
              "      <td>0.96</td>\n",
              "      <td>0.83</td>\n",
              "      <td>0.83</td>\n",
              "      <td>0.48</td>\n",
              "      <td>0.35</td>\n",
              "      <td>0.50</td>\n",
              "      <td>0.12</td>\n",
              "      <td>5.87</td>\n",
              "      <td>11.49</td>\n",
              "    </tr>\n",
              "    <tr>\n",
              "      <th>min</th>\n",
              "      <td>480.00</td>\n",
              "      <td>0.00</td>\n",
              "      <td>30.00</td>\n",
              "      <td>1.00</td>\n",
              "      <td>1.00</td>\n",
              "      <td>0.00</td>\n",
              "      <td>0.00</td>\n",
              "      <td>0.00</td>\n",
              "      <td>0.00</td>\n",
              "      <td>0.00</td>\n",
              "      <td>0.00</td>\n",
              "      <td>-46.75</td>\n",
              "      <td>-58.36</td>\n",
              "    </tr>\n",
              "    <tr>\n",
              "      <th>25%</th>\n",
              "      <td>1858.75</td>\n",
              "      <td>290.00</td>\n",
              "      <td>50.00</td>\n",
              "      <td>2.00</td>\n",
              "      <td>2.00</td>\n",
              "      <td>1.00</td>\n",
              "      <td>1.00</td>\n",
              "      <td>0.00</td>\n",
              "      <td>0.00</td>\n",
              "      <td>0.00</td>\n",
              "      <td>0.00</td>\n",
              "      <td>-23.59</td>\n",
              "      <td>-46.68</td>\n",
              "    </tr>\n",
              "    <tr>\n",
              "      <th>50%</th>\n",
              "      <td>8100.00</td>\n",
              "      <td>500.00</td>\n",
              "      <td>65.00</td>\n",
              "      <td>2.00</td>\n",
              "      <td>2.00</td>\n",
              "      <td>1.00</td>\n",
              "      <td>1.00</td>\n",
              "      <td>0.00</td>\n",
              "      <td>0.00</td>\n",
              "      <td>1.00</td>\n",
              "      <td>0.00</td>\n",
              "      <td>-23.55</td>\n",
              "      <td>-46.64</td>\n",
              "    </tr>\n",
              "    <tr>\n",
              "      <th>75%</th>\n",
              "      <td>360000.00</td>\n",
              "      <td>835.00</td>\n",
              "      <td>94.00</td>\n",
              "      <td>3.00</td>\n",
              "      <td>2.00</td>\n",
              "      <td>1.00</td>\n",
              "      <td>2.00</td>\n",
              "      <td>1.00</td>\n",
              "      <td>0.00</td>\n",
              "      <td>1.00</td>\n",
              "      <td>0.00</td>\n",
              "      <td>-23.52</td>\n",
              "      <td>-46.56</td>\n",
              "    </tr>\n",
              "    <tr>\n",
              "      <th>max</th>\n",
              "      <td>10000000.00</td>\n",
              "      <td>9500.00</td>\n",
              "      <td>880.00</td>\n",
              "      <td>10.00</td>\n",
              "      <td>8.00</td>\n",
              "      <td>6.00</td>\n",
              "      <td>9.00</td>\n",
              "      <td>1.00</td>\n",
              "      <td>1.00</td>\n",
              "      <td>1.00</td>\n",
              "      <td>1.00</td>\n",
              "      <td>0.00</td>\n",
              "      <td>0.00</td>\n",
              "    </tr>\n",
              "  </tbody>\n",
              "</table>\n",
              "</div>"
            ],
            "text/plain": [
              "             Price     Condo      Size  ...       New  Latitude  Longitude\n",
              "count     13640.00  13640.00  13640.00  ...  13640.00  13640.00   13640.00\n",
              "mean     287737.78    689.88     84.37  ...      0.02    -22.08     -43.60\n",
              "std      590821.42    757.65     58.44  ...      0.12      5.87      11.49\n",
              "min         480.00      0.00     30.00  ...      0.00    -46.75     -58.36\n",
              "25%        1858.75    290.00     50.00  ...      0.00    -23.59     -46.68\n",
              "50%        8100.00    500.00     65.00  ...      0.00    -23.55     -46.64\n",
              "75%      360000.00    835.00     94.00  ...      0.00    -23.52     -46.56\n",
              "max    10000000.00   9500.00    880.00  ...      1.00      0.00       0.00\n",
              "\n",
              "[8 rows x 13 columns]"
            ]
          },
          "metadata": {
            "tags": []
          },
          "execution_count": 5
        }
      ]
    },
    {
      "cell_type": "code",
      "metadata": {
        "id": "0gSixd98GyO-",
        "colab_type": "code",
        "colab": {
          "base_uri": "https://localhost:8080/",
          "height": 52
        },
        "outputId": "c5b34387-980a-4a27-c555-41c899d7d360"
      },
      "source": [
        "pd.Series([i[1].split('/')[1] for i in df.District.iteritems()]).value_counts()"
      ],
      "execution_count": 6,
      "outputs": [
        {
          "output_type": "execute_result",
          "data": {
            "text/plain": [
              "São Paulo    13640\n",
              "dtype: int64"
            ]
          },
          "metadata": {
            "tags": []
          },
          "execution_count": 6
        }
      ]
    },
    {
      "cell_type": "code",
      "metadata": {
        "id": "tLfo0SZoHFfr",
        "colab_type": "code",
        "colab": {
          "base_uri": "https://localhost:8080/",
          "height": 230
        },
        "outputId": "4643913f-23a7-406d-98a1-cc5a50584f5f"
      },
      "source": [
        "pd.Series([i[1].split('/')[0] for i in df.District.iteritems()]).value_counts()"
      ],
      "execution_count": 7,
      "outputs": [
        {
          "output_type": "execute_result",
          "data": {
            "text/plain": [
              "Moema              293\n",
              "Mooca              288\n",
              "Brás               255\n",
              "Brooklin           250\n",
              "Bela Vista         250\n",
              "                  ... \n",
              "Jardim São Luis     44\n",
              "São Rafael          44\n",
              "Grajaú              37\n",
              "São Domingos        35\n",
              "Perus               30\n",
              "Length: 96, dtype: int64"
            ]
          },
          "metadata": {
            "tags": []
          },
          "execution_count": 7
        }
      ]
    },
    {
      "cell_type": "code",
      "metadata": {
        "id": "jDhxXdNEOyvz",
        "colab_type": "code",
        "colab": {}
      },
      "source": [
        "df['District'] = df['District'].apply(lambda x: x.split('/')[0])"
      ],
      "execution_count": 0,
      "outputs": []
    },
    {
      "cell_type": "code",
      "metadata": {
        "id": "bi7zp6X-Kg1Y",
        "colab_type": "code",
        "colab": {
          "base_uri": "https://localhost:8080/",
          "height": 70
        },
        "outputId": "842f8c96-3574-47d2-8a45-fd849789aab0"
      },
      "source": [
        "df['Negotiation Type'].value_counts()"
      ],
      "execution_count": 9,
      "outputs": [
        {
          "output_type": "execute_result",
          "data": {
            "text/plain": [
              "rent    7228\n",
              "sale    6412\n",
              "Name: Negotiation Type, dtype: int64"
            ]
          },
          "metadata": {
            "tags": []
          },
          "execution_count": 9
        }
      ]
    },
    {
      "cell_type": "code",
      "metadata": {
        "id": "DihP5abpM_EC",
        "colab_type": "code",
        "colab": {
          "base_uri": "https://localhost:8080/",
          "height": 52
        },
        "outputId": "9bbd20a6-32c0-4014-8667-b29346fdc1d8"
      },
      "source": [
        "df['Property Type'].value_counts()"
      ],
      "execution_count": 10,
      "outputs": [
        {
          "output_type": "execute_result",
          "data": {
            "text/plain": [
              "apartment    13640\n",
              "Name: Property Type, dtype: int64"
            ]
          },
          "metadata": {
            "tags": []
          },
          "execution_count": 10
        }
      ]
    },
    {
      "cell_type": "code",
      "metadata": {
        "id": "HClUGYJ7NmQj",
        "colab_type": "code",
        "colab": {}
      },
      "source": [
        "df.drop('Property Type', axis = 1, inplace = True)"
      ],
      "execution_count": 0,
      "outputs": []
    },
    {
      "cell_type": "markdown",
      "metadata": {
        "id": "3ia9XddfR39d",
        "colab_type": "text"
      },
      "source": [
        "#Criando novas Variáveis:"
      ]
    },
    {
      "cell_type": "code",
      "metadata": {
        "id": "GRaiK7VjSLxN",
        "colab_type": "code",
        "colab": {
          "base_uri": "https://localhost:8080/",
          "height": 141
        },
        "outputId": "ad65dd5e-9f15-42d3-8013-1f064bda8c4f"
      },
      "source": [
        "for setor in df.District.unique():\n",
        "  df[setor] = 0\n",
        "  df[df.District == setor][setor] = 1\n",
        "df.drop('District', axis = 1, inplace = True)\n",
        "df.shape"
      ],
      "execution_count": 13,
      "outputs": [
        {
          "output_type": "stream",
          "text": [
            "/usr/local/lib/python3.6/dist-packages/ipykernel_launcher.py:3: SettingWithCopyWarning: \n",
            "A value is trying to be set on a copy of a slice from a DataFrame.\n",
            "Try using .loc[row_indexer,col_indexer] = value instead\n",
            "\n",
            "See the caveats in the documentation: https://pandas.pydata.org/pandas-docs/stable/user_guide/indexing.html#returning-a-view-versus-a-copy\n",
            "  This is separate from the ipykernel package so we can avoid doing imports until\n"
          ],
          "name": "stderr"
        },
        {
          "output_type": "execute_result",
          "data": {
            "text/plain": [
              "(13640, 110)"
            ]
          },
          "metadata": {
            "tags": []
          },
          "execution_count": 13
        }
      ]
    },
    {
      "cell_type": "markdown",
      "metadata": {
        "id": "vQ4muvNkLFJl",
        "colab_type": "text"
      },
      "source": [
        "#Criação do Data Frame `Rent` e `Sale`:"
      ]
    },
    {
      "cell_type": "code",
      "metadata": {
        "id": "NkjPfm7QLYFq",
        "colab_type": "code",
        "colab": {
          "base_uri": "https://localhost:8080/",
          "height": 160
        },
        "outputId": "13e28db4-fed5-4e07-c763-143a03bccb01"
      },
      "source": [
        "Rent = df[df['Negotiation Type'] == 'rent'].drop('Negotiation Type', axis = 1)\n",
        "Rent.head(1)"
      ],
      "execution_count": 14,
      "outputs": [
        {
          "output_type": "execute_result",
          "data": {
            "text/html": [
              "<div>\n",
              "<style scoped>\n",
              "    .dataframe tbody tr th:only-of-type {\n",
              "        vertical-align: middle;\n",
              "    }\n",
              "\n",
              "    .dataframe tbody tr th {\n",
              "        vertical-align: top;\n",
              "    }\n",
              "\n",
              "    .dataframe thead th {\n",
              "        text-align: right;\n",
              "    }\n",
              "</style>\n",
              "<table border=\"1\" class=\"dataframe\">\n",
              "  <thead>\n",
              "    <tr style=\"text-align: right;\">\n",
              "      <th></th>\n",
              "      <th>Price</th>\n",
              "      <th>Condo</th>\n",
              "      <th>Size</th>\n",
              "      <th>Rooms</th>\n",
              "      <th>Toilets</th>\n",
              "      <th>Suites</th>\n",
              "      <th>Parking</th>\n",
              "      <th>Elevator</th>\n",
              "      <th>Furnished</th>\n",
              "      <th>Swimming Pool</th>\n",
              "      <th>New</th>\n",
              "      <th>Latitude</th>\n",
              "      <th>Longitude</th>\n",
              "      <th>Artur Alvim</th>\n",
              "      <th>Belém</th>\n",
              "      <th>Cangaíba</th>\n",
              "      <th>Carrão</th>\n",
              "      <th>Cidade Líder</th>\n",
              "      <th>Cidade Tiradentes</th>\n",
              "      <th>Ermelino Matarazzo</th>\n",
              "      <th>Iguatemi</th>\n",
              "      <th>Itaim Paulista</th>\n",
              "      <th>Itaquera</th>\n",
              "      <th>Jardim Helena</th>\n",
              "      <th>José Bonifácio</th>\n",
              "      <th>Lajeado</th>\n",
              "      <th>Parque do Carmo</th>\n",
              "      <th>Penha</th>\n",
              "      <th>Ponte Rasa</th>\n",
              "      <th>Sapopemba</th>\n",
              "      <th>São Lucas</th>\n",
              "      <th>São Mateus</th>\n",
              "      <th>São Miguel</th>\n",
              "      <th>São Rafael</th>\n",
              "      <th>Tatuapé</th>\n",
              "      <th>Vila Curuçá</th>\n",
              "      <th>Vila Formosa</th>\n",
              "      <th>Vila Jacuí</th>\n",
              "      <th>Vila Matilde</th>\n",
              "      <th>Vila Prudente</th>\n",
              "      <th>...</th>\n",
              "      <th>Freguesia do Ó</th>\n",
              "      <th>Jaguaré</th>\n",
              "      <th>Jaraguá</th>\n",
              "      <th>Lapa</th>\n",
              "      <th>Limão</th>\n",
              "      <th>Perdizes</th>\n",
              "      <th>Pinheiros</th>\n",
              "      <th>Pirituba</th>\n",
              "      <th>Raposo Tavares</th>\n",
              "      <th>Rio Pequeno</th>\n",
              "      <th>Vila Leopoldina</th>\n",
              "      <th>Barra Funda</th>\n",
              "      <th>Bela Vista</th>\n",
              "      <th>Bom Retiro</th>\n",
              "      <th>Brás</th>\n",
              "      <th>Consolação</th>\n",
              "      <th>Liberdade</th>\n",
              "      <th>Pari</th>\n",
              "      <th>República</th>\n",
              "      <th>Santa Cecília</th>\n",
              "      <th>Sé</th>\n",
              "      <th>Casa Verde</th>\n",
              "      <th>Jaçanã</th>\n",
              "      <th>Mandaqui</th>\n",
              "      <th>Santana</th>\n",
              "      <th>Tremembé</th>\n",
              "      <th>Tucuruvi</th>\n",
              "      <th>Vila Guilherme</th>\n",
              "      <th>Vila Maria</th>\n",
              "      <th>Medeiros</th>\n",
              "      <th>Água Rasa</th>\n",
              "      <th>Aricanduva</th>\n",
              "      <th>Guaianazes</th>\n",
              "      <th>Jardim São Luis</th>\n",
              "      <th>Vila Madalena</th>\n",
              "      <th>Mooca</th>\n",
              "      <th>Brooklin</th>\n",
              "      <th>Vila Olimpia</th>\n",
              "      <th>Perus</th>\n",
              "      <th>São Domingos</th>\n",
              "    </tr>\n",
              "  </thead>\n",
              "  <tbody>\n",
              "    <tr>\n",
              "      <th>0</th>\n",
              "      <td>930</td>\n",
              "      <td>220</td>\n",
              "      <td>47</td>\n",
              "      <td>2</td>\n",
              "      <td>2</td>\n",
              "      <td>1</td>\n",
              "      <td>1</td>\n",
              "      <td>0</td>\n",
              "      <td>0</td>\n",
              "      <td>0</td>\n",
              "      <td>0</td>\n",
              "      <td>-23.543138</td>\n",
              "      <td>-46.479486</td>\n",
              "      <td>0</td>\n",
              "      <td>0</td>\n",
              "      <td>0</td>\n",
              "      <td>0</td>\n",
              "      <td>0</td>\n",
              "      <td>0</td>\n",
              "      <td>0</td>\n",
              "      <td>0</td>\n",
              "      <td>0</td>\n",
              "      <td>0</td>\n",
              "      <td>0</td>\n",
              "      <td>0</td>\n",
              "      <td>0</td>\n",
              "      <td>0</td>\n",
              "      <td>0</td>\n",
              "      <td>0</td>\n",
              "      <td>0</td>\n",
              "      <td>0</td>\n",
              "      <td>0</td>\n",
              "      <td>0</td>\n",
              "      <td>0</td>\n",
              "      <td>0</td>\n",
              "      <td>0</td>\n",
              "      <td>0</td>\n",
              "      <td>0</td>\n",
              "      <td>0</td>\n",
              "      <td>0</td>\n",
              "      <td>...</td>\n",
              "      <td>0</td>\n",
              "      <td>0</td>\n",
              "      <td>0</td>\n",
              "      <td>0</td>\n",
              "      <td>0</td>\n",
              "      <td>0</td>\n",
              "      <td>0</td>\n",
              "      <td>0</td>\n",
              "      <td>0</td>\n",
              "      <td>0</td>\n",
              "      <td>0</td>\n",
              "      <td>0</td>\n",
              "      <td>0</td>\n",
              "      <td>0</td>\n",
              "      <td>0</td>\n",
              "      <td>0</td>\n",
              "      <td>0</td>\n",
              "      <td>0</td>\n",
              "      <td>0</td>\n",
              "      <td>0</td>\n",
              "      <td>0</td>\n",
              "      <td>0</td>\n",
              "      <td>0</td>\n",
              "      <td>0</td>\n",
              "      <td>0</td>\n",
              "      <td>0</td>\n",
              "      <td>0</td>\n",
              "      <td>0</td>\n",
              "      <td>0</td>\n",
              "      <td>0</td>\n",
              "      <td>0</td>\n",
              "      <td>0</td>\n",
              "      <td>0</td>\n",
              "      <td>0</td>\n",
              "      <td>0</td>\n",
              "      <td>0</td>\n",
              "      <td>0</td>\n",
              "      <td>0</td>\n",
              "      <td>0</td>\n",
              "      <td>0</td>\n",
              "    </tr>\n",
              "  </tbody>\n",
              "</table>\n",
              "<p>1 rows × 109 columns</p>\n",
              "</div>"
            ],
            "text/plain": [
              "   Price  Condo  Size  Rooms  ...  Brooklin  Vila Olimpia  Perus  São Domingos\n",
              "0    930    220    47      2  ...         0             0      0             0\n",
              "\n",
              "[1 rows x 109 columns]"
            ]
          },
          "metadata": {
            "tags": []
          },
          "execution_count": 14
        }
      ]
    },
    {
      "cell_type": "code",
      "metadata": {
        "id": "BlOa3wD4N9bs",
        "colab_type": "code",
        "colab": {
          "base_uri": "https://localhost:8080/",
          "height": 160
        },
        "outputId": "5a9106c9-f661-493b-9366-e47e179c8a97"
      },
      "source": [
        "Sale = df[df['Negotiation Type'] == 'sale'].drop('Negotiation Type', axis = 1)\n",
        "Sale.head(1)"
      ],
      "execution_count": 15,
      "outputs": [
        {
          "output_type": "execute_result",
          "data": {
            "text/html": [
              "<div>\n",
              "<style scoped>\n",
              "    .dataframe tbody tr th:only-of-type {\n",
              "        vertical-align: middle;\n",
              "    }\n",
              "\n",
              "    .dataframe tbody tr th {\n",
              "        vertical-align: top;\n",
              "    }\n",
              "\n",
              "    .dataframe thead th {\n",
              "        text-align: right;\n",
              "    }\n",
              "</style>\n",
              "<table border=\"1\" class=\"dataframe\">\n",
              "  <thead>\n",
              "    <tr style=\"text-align: right;\">\n",
              "      <th></th>\n",
              "      <th>Price</th>\n",
              "      <th>Condo</th>\n",
              "      <th>Size</th>\n",
              "      <th>Rooms</th>\n",
              "      <th>Toilets</th>\n",
              "      <th>Suites</th>\n",
              "      <th>Parking</th>\n",
              "      <th>Elevator</th>\n",
              "      <th>Furnished</th>\n",
              "      <th>Swimming Pool</th>\n",
              "      <th>New</th>\n",
              "      <th>Latitude</th>\n",
              "      <th>Longitude</th>\n",
              "      <th>Artur Alvim</th>\n",
              "      <th>Belém</th>\n",
              "      <th>Cangaíba</th>\n",
              "      <th>Carrão</th>\n",
              "      <th>Cidade Líder</th>\n",
              "      <th>Cidade Tiradentes</th>\n",
              "      <th>Ermelino Matarazzo</th>\n",
              "      <th>Iguatemi</th>\n",
              "      <th>Itaim Paulista</th>\n",
              "      <th>Itaquera</th>\n",
              "      <th>Jardim Helena</th>\n",
              "      <th>José Bonifácio</th>\n",
              "      <th>Lajeado</th>\n",
              "      <th>Parque do Carmo</th>\n",
              "      <th>Penha</th>\n",
              "      <th>Ponte Rasa</th>\n",
              "      <th>Sapopemba</th>\n",
              "      <th>São Lucas</th>\n",
              "      <th>São Mateus</th>\n",
              "      <th>São Miguel</th>\n",
              "      <th>São Rafael</th>\n",
              "      <th>Tatuapé</th>\n",
              "      <th>Vila Curuçá</th>\n",
              "      <th>Vila Formosa</th>\n",
              "      <th>Vila Jacuí</th>\n",
              "      <th>Vila Matilde</th>\n",
              "      <th>Vila Prudente</th>\n",
              "      <th>...</th>\n",
              "      <th>Freguesia do Ó</th>\n",
              "      <th>Jaguaré</th>\n",
              "      <th>Jaraguá</th>\n",
              "      <th>Lapa</th>\n",
              "      <th>Limão</th>\n",
              "      <th>Perdizes</th>\n",
              "      <th>Pinheiros</th>\n",
              "      <th>Pirituba</th>\n",
              "      <th>Raposo Tavares</th>\n",
              "      <th>Rio Pequeno</th>\n",
              "      <th>Vila Leopoldina</th>\n",
              "      <th>Barra Funda</th>\n",
              "      <th>Bela Vista</th>\n",
              "      <th>Bom Retiro</th>\n",
              "      <th>Brás</th>\n",
              "      <th>Consolação</th>\n",
              "      <th>Liberdade</th>\n",
              "      <th>Pari</th>\n",
              "      <th>República</th>\n",
              "      <th>Santa Cecília</th>\n",
              "      <th>Sé</th>\n",
              "      <th>Casa Verde</th>\n",
              "      <th>Jaçanã</th>\n",
              "      <th>Mandaqui</th>\n",
              "      <th>Santana</th>\n",
              "      <th>Tremembé</th>\n",
              "      <th>Tucuruvi</th>\n",
              "      <th>Vila Guilherme</th>\n",
              "      <th>Vila Maria</th>\n",
              "      <th>Medeiros</th>\n",
              "      <th>Água Rasa</th>\n",
              "      <th>Aricanduva</th>\n",
              "      <th>Guaianazes</th>\n",
              "      <th>Jardim São Luis</th>\n",
              "      <th>Vila Madalena</th>\n",
              "      <th>Mooca</th>\n",
              "      <th>Brooklin</th>\n",
              "      <th>Vila Olimpia</th>\n",
              "      <th>Perus</th>\n",
              "      <th>São Domingos</th>\n",
              "    </tr>\n",
              "  </thead>\n",
              "  <tbody>\n",
              "    <tr>\n",
              "      <th>4901</th>\n",
              "      <td>732600</td>\n",
              "      <td>1000</td>\n",
              "      <td>74</td>\n",
              "      <td>1</td>\n",
              "      <td>2</td>\n",
              "      <td>1</td>\n",
              "      <td>2</td>\n",
              "      <td>1</td>\n",
              "      <td>0</td>\n",
              "      <td>1</td>\n",
              "      <td>0</td>\n",
              "      <td>-23.552129</td>\n",
              "      <td>-46.692244</td>\n",
              "      <td>0</td>\n",
              "      <td>0</td>\n",
              "      <td>0</td>\n",
              "      <td>0</td>\n",
              "      <td>0</td>\n",
              "      <td>0</td>\n",
              "      <td>0</td>\n",
              "      <td>0</td>\n",
              "      <td>0</td>\n",
              "      <td>0</td>\n",
              "      <td>0</td>\n",
              "      <td>0</td>\n",
              "      <td>0</td>\n",
              "      <td>0</td>\n",
              "      <td>0</td>\n",
              "      <td>0</td>\n",
              "      <td>0</td>\n",
              "      <td>0</td>\n",
              "      <td>0</td>\n",
              "      <td>0</td>\n",
              "      <td>0</td>\n",
              "      <td>0</td>\n",
              "      <td>0</td>\n",
              "      <td>0</td>\n",
              "      <td>0</td>\n",
              "      <td>0</td>\n",
              "      <td>0</td>\n",
              "      <td>...</td>\n",
              "      <td>0</td>\n",
              "      <td>0</td>\n",
              "      <td>0</td>\n",
              "      <td>0</td>\n",
              "      <td>0</td>\n",
              "      <td>0</td>\n",
              "      <td>0</td>\n",
              "      <td>0</td>\n",
              "      <td>0</td>\n",
              "      <td>0</td>\n",
              "      <td>0</td>\n",
              "      <td>0</td>\n",
              "      <td>0</td>\n",
              "      <td>0</td>\n",
              "      <td>0</td>\n",
              "      <td>0</td>\n",
              "      <td>0</td>\n",
              "      <td>0</td>\n",
              "      <td>0</td>\n",
              "      <td>0</td>\n",
              "      <td>0</td>\n",
              "      <td>0</td>\n",
              "      <td>0</td>\n",
              "      <td>0</td>\n",
              "      <td>0</td>\n",
              "      <td>0</td>\n",
              "      <td>0</td>\n",
              "      <td>0</td>\n",
              "      <td>0</td>\n",
              "      <td>0</td>\n",
              "      <td>0</td>\n",
              "      <td>0</td>\n",
              "      <td>0</td>\n",
              "      <td>0</td>\n",
              "      <td>0</td>\n",
              "      <td>0</td>\n",
              "      <td>0</td>\n",
              "      <td>0</td>\n",
              "      <td>0</td>\n",
              "      <td>0</td>\n",
              "    </tr>\n",
              "  </tbody>\n",
              "</table>\n",
              "<p>1 rows × 109 columns</p>\n",
              "</div>"
            ],
            "text/plain": [
              "       Price  Condo  Size  Rooms  ...  Brooklin  Vila Olimpia  Perus  São Domingos\n",
              "4901  732600   1000    74      1  ...         0             0      0             0\n",
              "\n",
              "[1 rows x 109 columns]"
            ]
          },
          "metadata": {
            "tags": []
          },
          "execution_count": 15
        }
      ]
    },
    {
      "cell_type": "markdown",
      "metadata": {
        "id": "4Gi4iZ3nFsdd",
        "colab_type": "text"
      },
      "source": [
        "#Retirando Outliers:"
      ]
    },
    {
      "cell_type": "code",
      "metadata": {
        "id": "wESbJPhnzk2Q",
        "colab_type": "code",
        "colab": {
          "base_uri": "https://localhost:8080/",
          "height": 141
        },
        "outputId": "9c6ed3ea-cd80-4923-d7d6-da9ce9f91782"
      },
      "source": [
        "def tirar_outlier(df, lista):\n",
        "  df_clean = df[lista]\n",
        "  for col, dados in df_clean.iteritems():\n",
        "    df_clean = df_clean[((df_clean[col] - df_clean[col].mean()) / df_clean[col].std()).abs() < 3]\n",
        "    df_clean = df_clean[np.abs(df_clean[col]-df_clean[col].mean()) <= (3*df_clean[col].std())]\n",
        "\n",
        "  valores_retirados = df.shape[0] - df_clean.shape[0]\n",
        "  print('Foi retirado {} valores de {} ({:.2f})%'.format(valores_retirados, df.shape[0], valores_retirados/df.shape[0]*100))\n",
        "  print('Ficamos com {} resultados'.format(df_clean.shape[0]))\n",
        "\n",
        "  for i in range(0, len(df)):\n",
        "    if i not in df_clean.index:\n",
        "        df = df[df.index != i]\n",
        "\n",
        "  df = df.reset_index(drop=True)\n",
        "  return df\n",
        "\n",
        "lista = ['Latitude', 'Longitude']\n",
        "\n",
        "print('Para o Data Frame Rent:')\n",
        "Rent_clean = tirar_outlier(Rent, lista)\n",
        "\n",
        "print('\\nPara o Data Frame Sale:')\n",
        "Sale_clean = tirar_outlier(Sale, lista)"
      ],
      "execution_count": 16,
      "outputs": [
        {
          "output_type": "stream",
          "text": [
            "Para o Data Frame Rent:\n",
            "Foi retirado 577 valores de 7228 (7.98)%\n",
            "Ficamos com 6651 resultados\n",
            "\n",
            "Para o Data Frame Sale:\n",
            "Foi retirado 472 valores de 6412 (7.36)%\n",
            "Ficamos com 5940 resultados\n"
          ],
          "name": "stdout"
        }
      ]
    },
    {
      "cell_type": "markdown",
      "metadata": {
        "id": "kamkqx6LF9RX",
        "colab_type": "text"
      },
      "source": [
        "#Modelos de Machine Learning:"
      ]
    },
    {
      "cell_type": "markdown",
      "metadata": {
        "id": "WYaELWVSPyB6",
        "colab_type": "text"
      },
      "source": [
        "##Primeiro Modelo: Regressão Linear"
      ]
    },
    {
      "cell_type": "code",
      "metadata": {
        "id": "rfMQ34k6Qxrx",
        "colab_type": "code",
        "colab": {}
      },
      "source": [
        "from sklearn.linear_model import LinearRegression\n",
        "from sklearn.metrics import r2_score"
      ],
      "execution_count": 0,
      "outputs": []
    },
    {
      "cell_type": "markdown",
      "metadata": {
        "id": "fIdMzKSuQAnd",
        "colab_type": "text"
      },
      "source": [
        "###Para o Data Frame `Rent`:"
      ]
    },
    {
      "cell_type": "code",
      "metadata": {
        "id": "AtpxkVDj8TAL",
        "colab_type": "code",
        "colab": {
          "base_uri": "https://localhost:8080/",
          "height": 34
        },
        "outputId": "b5badd0c-4892-4ed4-9265-25471b145741"
      },
      "source": [
        "X = Rent_clean.drop(['Price'], axis = 1)\n",
        "y = Rent_clean[['Price']]\n",
        "\n",
        "X_train, X_test, y_train, y_test = train_test_split(X, y, test_size = 0.2, random_state = 42)\n",
        "modelo = LinearRegression()\n",
        "modelo.fit(X_train, y_train)\n",
        "y_pred = modelo.predict(X_test)\n",
        "\n",
        "print('R² = {:.3f}'.format(r2_score(y_test, y_pred)))"
      ],
      "execution_count": 34,
      "outputs": [
        {
          "output_type": "stream",
          "text": [
            "R² = 0.572\n"
          ],
          "name": "stdout"
        }
      ]
    },
    {
      "cell_type": "markdown",
      "metadata": {
        "id": "k27JKuumQmXZ",
        "colab_type": "text"
      },
      "source": [
        "###Para o Data Frame `Sale`:"
      ]
    },
    {
      "cell_type": "code",
      "metadata": {
        "id": "DQOeW5T3QomN",
        "colab_type": "code",
        "colab": {
          "base_uri": "https://localhost:8080/",
          "height": 34
        },
        "outputId": "c7a57b0a-660d-429c-b061-4f48d348dd21"
      },
      "source": [
        "X = Sale_clean.drop(['Price'], axis = 1)\n",
        "y = Sale_clean[['Price']]\n",
        "\n",
        "X_train, X_test, y_train, y_test = train_test_split(X, y, test_size = 0.2, random_state = 42)\n",
        "modelo = LinearRegression()\n",
        "modelo.fit(X_train, y_train)\n",
        "y_pred = modelo.predict(X_test)\n",
        "\n",
        "print('R² = {:.3f}'.format(r2_score(y_test, y_pred)))"
      ],
      "execution_count": 23,
      "outputs": [
        {
          "output_type": "stream",
          "text": [
            "R² = 0.725\n"
          ],
          "name": "stdout"
        }
      ]
    },
    {
      "cell_type": "markdown",
      "metadata": {
        "id": "4BNDgnJ_amwe",
        "colab_type": "text"
      },
      "source": [
        "##Segundo Modelo: XGBRegressor"
      ]
    },
    {
      "cell_type": "code",
      "metadata": {
        "id": "CqV37H5QatnN",
        "colab_type": "code",
        "colab": {}
      },
      "source": [
        "from xgboost import XGBRegressor"
      ],
      "execution_count": 0,
      "outputs": []
    },
    {
      "cell_type": "markdown",
      "metadata": {
        "id": "KShTIV99aqyc",
        "colab_type": "text"
      },
      "source": [
        "###Para o Data Frame `Rent`:"
      ]
    },
    {
      "cell_type": "code",
      "metadata": {
        "id": "BiVQzOHiau3q",
        "colab_type": "code",
        "colab": {
          "base_uri": "https://localhost:8080/",
          "height": 34
        },
        "outputId": "3fb4495f-f08e-46e0-87cc-185d7c280468"
      },
      "source": [
        "X = Rent_clean.drop(['Price'], axis = 1)\n",
        "y = Rent_clean[['Price']]\n",
        "\n",
        "X_train, X_test, y_train, y_test = train_test_split(X, y, test_size = 0.2, random_state = 42)\n",
        "modelo = XGBRegressor(random_state=42, silent=True)\n",
        "modelo.fit(X_train, y_train)\n",
        "y_pred = modelo.predict(X_test)\n",
        "\n",
        "print('R² = {:.3f}'.format(r2_score(y_test, y_pred)))"
      ],
      "execution_count": 25,
      "outputs": [
        {
          "output_type": "stream",
          "text": [
            "R² = 0.725\n"
          ],
          "name": "stdout"
        }
      ]
    },
    {
      "cell_type": "markdown",
      "metadata": {
        "id": "uzNj1M8ia6e0",
        "colab_type": "text"
      },
      "source": [
        "###Para o Data Frame `Sale`:"
      ]
    },
    {
      "cell_type": "code",
      "metadata": {
        "id": "X2zxF41Na_TA",
        "colab_type": "code",
        "colab": {
          "base_uri": "https://localhost:8080/",
          "height": 34
        },
        "outputId": "8e3a9f85-e217-4a7e-f46f-349c8b8ce65f"
      },
      "source": [
        "X = Sale_clean.drop(['Price'], axis = 1)\n",
        "y = Sale_clean[['Price']]\n",
        "\n",
        "X_train, X_test, y_train, y_test = train_test_split(X, y, test_size = 0.2, random_state = 42)\n",
        "modelo = XGBRegressor(random_state=42, silent=True)\n",
        "modelo.fit(X_train, y_train)\n",
        "y_pred = modelo.predict(X_test)\n",
        "\n",
        "print('R² = {:.3f}'.format(r2_score(y_test, y_pred)))"
      ],
      "execution_count": 26,
      "outputs": [
        {
          "output_type": "stream",
          "text": [
            "R² = 0.856\n"
          ],
          "name": "stdout"
        }
      ]
    },
    {
      "cell_type": "markdown",
      "metadata": {
        "id": "kJwWD_c2bJ88",
        "colab_type": "text"
      },
      "source": [
        "##Terceiro Modelo: Essemble Random Forest Regressor"
      ]
    },
    {
      "cell_type": "code",
      "metadata": {
        "id": "3hub1fH2bcfs",
        "colab_type": "code",
        "colab": {}
      },
      "source": [
        "from sklearn.ensemble import RandomForestRegressor"
      ],
      "execution_count": 0,
      "outputs": []
    },
    {
      "cell_type": "markdown",
      "metadata": {
        "id": "PYDj9fvVbhgg",
        "colab_type": "text"
      },
      "source": [
        "###Para o Data Frame `Rent`:"
      ]
    },
    {
      "cell_type": "markdown",
      "metadata": {
        "id": "OlvqedCxb6nY",
        "colab_type": "text"
      },
      "source": [
        "####Sem alterações:"
      ]
    },
    {
      "cell_type": "code",
      "metadata": {
        "id": "TaMbf-J5bj0M",
        "colab_type": "code",
        "colab": {
          "base_uri": "https://localhost:8080/",
          "height": 90
        },
        "outputId": "41f14745-f5fb-45dc-a509-b37ab903c1ce"
      },
      "source": [
        "X = Rent_clean.drop(['Price'], axis = 1)\n",
        "y = Rent_clean[['Price']]\n",
        "\n",
        "X_train, X_test, y_train, y_test = train_test_split(X, y, test_size = 0.2, random_state = 42)\n",
        "\n",
        "modelo = RandomForestRegressor()\n",
        "modelo.fit(X_train, y_train)\n",
        "y_pred = modelo.predict(X_test)\n",
        "\n",
        "print('R² = {:.3f}'.format(r2_score(y_test, y_pred)))"
      ],
      "execution_count": 32,
      "outputs": [
        {
          "output_type": "stream",
          "text": [
            "/usr/local/lib/python3.6/dist-packages/ipykernel_launcher.py:2: DataConversionWarning: A column-vector y was passed when a 1d array was expected. Please change the shape of y to (n_samples,), for example using ravel().\n",
            "  \n"
          ],
          "name": "stderr"
        },
        {
          "output_type": "stream",
          "text": [
            "R² = 0.778\n"
          ],
          "name": "stdout"
        }
      ]
    },
    {
      "cell_type": "markdown",
      "metadata": {
        "id": "Cl4W7P7GcKbA",
        "colab_type": "text"
      },
      "source": [
        "####Utilizando \"`mae`\" (Mean Absolute Error):"
      ]
    },
    {
      "cell_type": "code",
      "metadata": {
        "id": "WNohGhUpcdAo",
        "colab_type": "code",
        "colab": {
          "base_uri": "https://localhost:8080/",
          "height": 90
        },
        "outputId": "359095d6-aa92-47df-aa74-7e16a90518e9"
      },
      "source": [
        "X = Rent_clean.drop(['Price'], axis = 1)\n",
        "y = Rent_clean[['Price']]\n",
        "\n",
        "X_train, X_test, y_train, y_test = train_test_split(X, y, test_size = 0.2, random_state = 42)\n",
        "\n",
        "modelo = RandomForestRegressor(10, criterion = 'mae')\n",
        "modelo.fit(X_train, y_train)\n",
        "y_pred = modelo.predict(X_test)\n",
        "\n",
        "print('R² = {:.3f}'.format(r2_score(y_test, y_pred)))"
      ],
      "execution_count": 33,
      "outputs": [
        {
          "output_type": "stream",
          "text": [
            "/usr/local/lib/python3.6/dist-packages/ipykernel_launcher.py:2: DataConversionWarning: A column-vector y was passed when a 1d array was expected. Please change the shape of y to (n_samples,), for example using ravel().\n",
            "  \n"
          ],
          "name": "stderr"
        },
        {
          "output_type": "stream",
          "text": [
            "R² = 0.722\n"
          ],
          "name": "stdout"
        }
      ]
    },
    {
      "cell_type": "code",
      "metadata": {
        "id": "Yd0cOsMFdeGM",
        "colab_type": "code",
        "colab": {
          "base_uri": "https://localhost:8080/",
          "height": 90
        },
        "outputId": "8484f43b-f247-4923-cb16-eeb5dc053f64"
      },
      "source": [
        "X = Rent_clean.drop(['Price'], axis = 1)\n",
        "y = Rent_clean[['Price']]\n",
        "\n",
        "X_train, X_test, y_train, y_test = train_test_split(X, y, test_size = 0.2, random_state = 42)\n",
        "\n",
        "modelo = RandomForestRegressor(min_samples_split=5, min_samples_leaf=5)\n",
        "modelo.fit(X_train, y_train)\n",
        "y_pred = modelo.predict(X_test)\n",
        "\n",
        "print('R² = {:.3f}'.format(r2_score(y_test, y_pred)))"
      ],
      "execution_count": 36,
      "outputs": [
        {
          "output_type": "stream",
          "text": [
            "/usr/local/lib/python3.6/dist-packages/ipykernel_launcher.py:7: DataConversionWarning: A column-vector y was passed when a 1d array was expected. Please change the shape of y to (n_samples,), for example using ravel().\n",
            "  import sys\n"
          ],
          "name": "stderr"
        },
        {
          "output_type": "stream",
          "text": [
            "R² = 0.742\n"
          ],
          "name": "stdout"
        }
      ]
    }
  ]
}